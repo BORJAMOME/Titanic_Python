{
 "cells": [
  {
   "cell_type": "markdown",
   "id": "184dde8f-fae3-4366-ae1a-988616a17bc7",
   "metadata": {},
   "source": [
    "# Análisis de superpivivientes del Titanic"
   ]
  },
  {
   "cell_type": "markdown",
   "id": "5a5cd9cd-2f15-4f11-b283-7795833c41a9",
   "metadata": {},
   "source": [
    "## Cargar librerias necesarias"
   ]
  },
  {
   "cell_type": "code",
   "execution_count": 121,
   "id": "6d63fe48-3379-4c0b-8f1c-d6a0a74e898b",
   "metadata": {},
   "outputs": [],
   "source": [
    "import pandas as pd\n",
    "import numpy as np\n",
    "import matplotlib.pyplot as plt\n",
    "import seaborn as sns"
   ]
  },
  {
   "cell_type": "markdown",
   "id": "b2cbf044-7a49-43a1-895c-23e0aaee0c12",
   "metadata": {},
   "source": [
    "## Carga de datos en Python"
   ]
  },
  {
   "cell_type": "code",
   "execution_count": 126,
   "id": "eb924ebe-9193-45b8-8866-672a3756d010",
   "metadata": {},
   "outputs": [],
   "source": [
    "datos= pd.read_csv('titanic.csv')"
   ]
  },
  {
   "cell_type": "markdown",
   "id": "a03c1157-a673-4c21-9d48-52cd3d110801",
   "metadata": {},
   "source": [
    "## Revisión del Dataset"
   ]
  },
  {
   "cell_type": "code",
   "execution_count": 129,
   "id": "8d0cff3b-9eca-4588-9192-8fdf2a773b55",
   "metadata": {},
   "outputs": [
    {
     "data": {
      "text/html": [
       "<div>\n",
       "<style scoped>\n",
       "    .dataframe tbody tr th:only-of-type {\n",
       "        vertical-align: middle;\n",
       "    }\n",
       "\n",
       "    .dataframe tbody tr th {\n",
       "        vertical-align: top;\n",
       "    }\n",
       "\n",
       "    .dataframe thead th {\n",
       "        text-align: right;\n",
       "    }\n",
       "</style>\n",
       "<table border=\"1\" class=\"dataframe\">\n",
       "  <thead>\n",
       "    <tr style=\"text-align: right;\">\n",
       "      <th></th>\n",
       "      <th>PassengerId</th>\n",
       "      <th>Survived</th>\n",
       "      <th>Pclass</th>\n",
       "      <th>Name</th>\n",
       "      <th>Sex</th>\n",
       "      <th>Age</th>\n",
       "      <th>SibSp</th>\n",
       "      <th>Parch</th>\n",
       "      <th>Ticket</th>\n",
       "      <th>Fare</th>\n",
       "      <th>Cabin</th>\n",
       "      <th>Embarked</th>\n",
       "    </tr>\n",
       "  </thead>\n",
       "  <tbody>\n",
       "    <tr>\n",
       "      <th>0</th>\n",
       "      <td>1</td>\n",
       "      <td>0</td>\n",
       "      <td>3</td>\n",
       "      <td>Braund, Mr. Owen Harris</td>\n",
       "      <td>male</td>\n",
       "      <td>22.0</td>\n",
       "      <td>1</td>\n",
       "      <td>0</td>\n",
       "      <td>A/5 21171</td>\n",
       "      <td>7.2500</td>\n",
       "      <td>NaN</td>\n",
       "      <td>S</td>\n",
       "    </tr>\n",
       "    <tr>\n",
       "      <th>1</th>\n",
       "      <td>2</td>\n",
       "      <td>1</td>\n",
       "      <td>1</td>\n",
       "      <td>Cumings, Mrs. John Bradley (Florence Briggs Th...</td>\n",
       "      <td>female</td>\n",
       "      <td>38.0</td>\n",
       "      <td>1</td>\n",
       "      <td>0</td>\n",
       "      <td>PC 17599</td>\n",
       "      <td>71.2833</td>\n",
       "      <td>C85</td>\n",
       "      <td>C</td>\n",
       "    </tr>\n",
       "    <tr>\n",
       "      <th>2</th>\n",
       "      <td>3</td>\n",
       "      <td>1</td>\n",
       "      <td>3</td>\n",
       "      <td>Heikkinen, Miss. Laina</td>\n",
       "      <td>female</td>\n",
       "      <td>26.0</td>\n",
       "      <td>0</td>\n",
       "      <td>0</td>\n",
       "      <td>STON/O2. 3101282</td>\n",
       "      <td>7.9250</td>\n",
       "      <td>NaN</td>\n",
       "      <td>S</td>\n",
       "    </tr>\n",
       "    <tr>\n",
       "      <th>3</th>\n",
       "      <td>4</td>\n",
       "      <td>1</td>\n",
       "      <td>1</td>\n",
       "      <td>Futrelle, Mrs. Jacques Heath (Lily May Peel)</td>\n",
       "      <td>female</td>\n",
       "      <td>35.0</td>\n",
       "      <td>1</td>\n",
       "      <td>0</td>\n",
       "      <td>113803</td>\n",
       "      <td>53.1000</td>\n",
       "      <td>C123</td>\n",
       "      <td>S</td>\n",
       "    </tr>\n",
       "    <tr>\n",
       "      <th>4</th>\n",
       "      <td>5</td>\n",
       "      <td>0</td>\n",
       "      <td>3</td>\n",
       "      <td>Allen, Mr. William Henry</td>\n",
       "      <td>male</td>\n",
       "      <td>35.0</td>\n",
       "      <td>0</td>\n",
       "      <td>0</td>\n",
       "      <td>373450</td>\n",
       "      <td>8.0500</td>\n",
       "      <td>NaN</td>\n",
       "      <td>S</td>\n",
       "    </tr>\n",
       "  </tbody>\n",
       "</table>\n",
       "</div>"
      ],
      "text/plain": [
       "   PassengerId  Survived  Pclass  \\\n",
       "0            1         0       3   \n",
       "1            2         1       1   \n",
       "2            3         1       3   \n",
       "3            4         1       1   \n",
       "4            5         0       3   \n",
       "\n",
       "                                                Name     Sex   Age  SibSp  \\\n",
       "0                            Braund, Mr. Owen Harris    male  22.0      1   \n",
       "1  Cumings, Mrs. John Bradley (Florence Briggs Th...  female  38.0      1   \n",
       "2                             Heikkinen, Miss. Laina  female  26.0      0   \n",
       "3       Futrelle, Mrs. Jacques Heath (Lily May Peel)  female  35.0      1   \n",
       "4                           Allen, Mr. William Henry    male  35.0      0   \n",
       "\n",
       "   Parch            Ticket     Fare Cabin Embarked  \n",
       "0      0         A/5 21171   7.2500   NaN        S  \n",
       "1      0          PC 17599  71.2833   C85        C  \n",
       "2      0  STON/O2. 3101282   7.9250   NaN        S  \n",
       "3      0            113803  53.1000  C123        S  \n",
       "4      0            373450   8.0500   NaN        S  "
      ]
     },
     "execution_count": 129,
     "metadata": {},
     "output_type": "execute_result"
    }
   ],
   "source": [
    "# Revisión inicial de los datos\n",
    "\n",
    "datos.head(5)"
   ]
  },
  {
   "cell_type": "code",
   "execution_count": 131,
   "id": "5272083b-491e-4868-ac2a-1a48513140b7",
   "metadata": {},
   "outputs": [
    {
     "data": {
      "text/plain": [
       "(891, 12)"
      ]
     },
     "execution_count": 131,
     "metadata": {},
     "output_type": "execute_result"
    }
   ],
   "source": [
    "# Dimensiones del DF\n",
    "\n",
    "datos.shape"
   ]
  },
  {
   "cell_type": "code",
   "execution_count": 133,
   "id": "b5330ee5-6460-4faa-aee1-60515713d553",
   "metadata": {},
   "outputs": [
    {
     "name": "stdout",
     "output_type": "stream",
     "text": [
      "<class 'pandas.core.frame.DataFrame'>\n",
      "RangeIndex: 891 entries, 0 to 890\n",
      "Data columns (total 12 columns):\n",
      " #   Column       Non-Null Count  Dtype  \n",
      "---  ------       --------------  -----  \n",
      " 0   PassengerId  891 non-null    int64  \n",
      " 1   Survived     891 non-null    int64  \n",
      " 2   Pclass       891 non-null    int64  \n",
      " 3   Name         891 non-null    object \n",
      " 4   Sex          891 non-null    object \n",
      " 5   Age          714 non-null    float64\n",
      " 6   SibSp        891 non-null    int64  \n",
      " 7   Parch        891 non-null    int64  \n",
      " 8   Ticket       891 non-null    object \n",
      " 9   Fare         891 non-null    float64\n",
      " 10  Cabin        204 non-null    object \n",
      " 11  Embarked     889 non-null    object \n",
      "dtypes: float64(2), int64(5), object(5)\n",
      "memory usage: 83.7+ KB\n"
     ]
    }
   ],
   "source": [
    "# Información general sobre los datos\n",
    "\n",
    "datos.info()"
   ]
  },
  {
   "cell_type": "code",
   "execution_count": 135,
   "id": "272a389f-0c88-4277-b31e-77c182933610",
   "metadata": {},
   "outputs": [
    {
     "data": {
      "text/html": [
       "<div>\n",
       "<style scoped>\n",
       "    .dataframe tbody tr th:only-of-type {\n",
       "        vertical-align: middle;\n",
       "    }\n",
       "\n",
       "    .dataframe tbody tr th {\n",
       "        vertical-align: top;\n",
       "    }\n",
       "\n",
       "    .dataframe thead th {\n",
       "        text-align: right;\n",
       "    }\n",
       "</style>\n",
       "<table border=\"1\" class=\"dataframe\">\n",
       "  <thead>\n",
       "    <tr style=\"text-align: right;\">\n",
       "      <th></th>\n",
       "      <th>PassengerId</th>\n",
       "      <th>Survived</th>\n",
       "      <th>Pclass</th>\n",
       "      <th>Age</th>\n",
       "      <th>SibSp</th>\n",
       "      <th>Parch</th>\n",
       "      <th>Fare</th>\n",
       "    </tr>\n",
       "  </thead>\n",
       "  <tbody>\n",
       "    <tr>\n",
       "      <th>count</th>\n",
       "      <td>891.0</td>\n",
       "      <td>891.0</td>\n",
       "      <td>891.0</td>\n",
       "      <td>714.0</td>\n",
       "      <td>891.0</td>\n",
       "      <td>891.0</td>\n",
       "      <td>891.0</td>\n",
       "    </tr>\n",
       "    <tr>\n",
       "      <th>mean</th>\n",
       "      <td>446.0</td>\n",
       "      <td>0.0</td>\n",
       "      <td>2.0</td>\n",
       "      <td>30.0</td>\n",
       "      <td>1.0</td>\n",
       "      <td>0.0</td>\n",
       "      <td>32.0</td>\n",
       "    </tr>\n",
       "    <tr>\n",
       "      <th>std</th>\n",
       "      <td>257.0</td>\n",
       "      <td>0.0</td>\n",
       "      <td>1.0</td>\n",
       "      <td>15.0</td>\n",
       "      <td>1.0</td>\n",
       "      <td>1.0</td>\n",
       "      <td>50.0</td>\n",
       "    </tr>\n",
       "    <tr>\n",
       "      <th>min</th>\n",
       "      <td>1.0</td>\n",
       "      <td>0.0</td>\n",
       "      <td>1.0</td>\n",
       "      <td>0.0</td>\n",
       "      <td>0.0</td>\n",
       "      <td>0.0</td>\n",
       "      <td>0.0</td>\n",
       "    </tr>\n",
       "    <tr>\n",
       "      <th>25%</th>\n",
       "      <td>224.0</td>\n",
       "      <td>0.0</td>\n",
       "      <td>2.0</td>\n",
       "      <td>20.0</td>\n",
       "      <td>0.0</td>\n",
       "      <td>0.0</td>\n",
       "      <td>8.0</td>\n",
       "    </tr>\n",
       "    <tr>\n",
       "      <th>50%</th>\n",
       "      <td>446.0</td>\n",
       "      <td>0.0</td>\n",
       "      <td>3.0</td>\n",
       "      <td>28.0</td>\n",
       "      <td>0.0</td>\n",
       "      <td>0.0</td>\n",
       "      <td>14.0</td>\n",
       "    </tr>\n",
       "    <tr>\n",
       "      <th>75%</th>\n",
       "      <td>668.0</td>\n",
       "      <td>1.0</td>\n",
       "      <td>3.0</td>\n",
       "      <td>38.0</td>\n",
       "      <td>1.0</td>\n",
       "      <td>0.0</td>\n",
       "      <td>31.0</td>\n",
       "    </tr>\n",
       "    <tr>\n",
       "      <th>max</th>\n",
       "      <td>891.0</td>\n",
       "      <td>1.0</td>\n",
       "      <td>3.0</td>\n",
       "      <td>80.0</td>\n",
       "      <td>8.0</td>\n",
       "      <td>6.0</td>\n",
       "      <td>512.0</td>\n",
       "    </tr>\n",
       "  </tbody>\n",
       "</table>\n",
       "</div>"
      ],
      "text/plain": [
       "       PassengerId  Survived  Pclass    Age  SibSp  Parch   Fare\n",
       "count        891.0     891.0   891.0  714.0  891.0  891.0  891.0\n",
       "mean         446.0       0.0     2.0   30.0    1.0    0.0   32.0\n",
       "std          257.0       0.0     1.0   15.0    1.0    1.0   50.0\n",
       "min            1.0       0.0     1.0    0.0    0.0    0.0    0.0\n",
       "25%          224.0       0.0     2.0   20.0    0.0    0.0    8.0\n",
       "50%          446.0       0.0     3.0   28.0    0.0    0.0   14.0\n",
       "75%          668.0       1.0     3.0   38.0    1.0    0.0   31.0\n",
       "max          891.0       1.0     3.0   80.0    8.0    6.0  512.0"
      ]
     },
     "execution_count": 135,
     "metadata": {},
     "output_type": "execute_result"
    }
   ],
   "source": [
    "# Estadísticas descriptivas\n",
    "\n",
    "datos.describe().round(0)"
   ]
  },
  {
   "cell_type": "code",
   "execution_count": 137,
   "id": "73769ef9-fe9f-440d-8bb7-210c75dac07e",
   "metadata": {},
   "outputs": [
    {
     "data": {
      "text/plain": [
       "Cabin          687\n",
       "Age            177\n",
       "Embarked         2\n",
       "PassengerId      0\n",
       "Survived         0\n",
       "Pclass           0\n",
       "Name             0\n",
       "Sex              0\n",
       "SibSp            0\n",
       "Parch            0\n",
       "Ticket           0\n",
       "Fare             0\n",
       "dtype: int64"
      ]
     },
     "execution_count": 137,
     "metadata": {},
     "output_type": "execute_result"
    }
   ],
   "source": [
    "# Revisión de valores nulos\n",
    "\n",
    "nulo= datos.isnull().sum().sort_values(ascending = False)\n",
    "\n",
    "nulo"
   ]
  },
  {
   "cell_type": "code",
   "execution_count": 139,
   "id": "39d68ddd-bb56-40f5-95ad-dec237004d02",
   "metadata": {},
   "outputs": [
    {
     "data": {
      "text/plain": [
       "PassengerId    891\n",
       "Survived       891\n",
       "Pclass         891\n",
       "Name           891\n",
       "Sex            891\n",
       "SibSp          891\n",
       "Parch          891\n",
       "Ticket         891\n",
       "Fare           891\n",
       "Embarked       889\n",
       "Age            714\n",
       "Cabin          204\n",
       "dtype: int64"
      ]
     },
     "execution_count": 139,
     "metadata": {},
     "output_type": "execute_result"
    }
   ],
   "source": [
    "# Sumatorio de valores no nulos\n",
    "\n",
    "nonulo= datos.notnull().sum().sort_values(ascending = False)\n",
    "\n",
    "nonulo"
   ]
  },
  {
   "cell_type": "code",
   "execution_count": 141,
   "id": "ca94e377-a0aa-4ef8-8378-b14bddcd6cbe",
   "metadata": {},
   "outputs": [
    {
     "data": {
      "text/plain": [
       "Cabin          0.771\n",
       "Age            0.199\n",
       "Embarked       0.002\n",
       "PassengerId    0.000\n",
       "Survived       0.000\n",
       "Pclass         0.000\n",
       "Name           0.000\n",
       "Sex            0.000\n",
       "SibSp          0.000\n",
       "Parch          0.000\n",
       "Ticket         0.000\n",
       "Fare           0.000\n",
       "dtype: float64"
      ]
     },
     "execution_count": 141,
     "metadata": {},
     "output_type": "execute_result"
    }
   ],
   "source": [
    "# Conocer el porcentaje de valores nulos por cada columna\n",
    "\n",
    "porcentaje_nulo= (datos.isnull().sum() / datos.isnull().count()).sort_values(ascending = False).round(3)\n",
    "\n",
    "porcentaje_nulo"
   ]
  },
  {
   "cell_type": "code",
   "execution_count": 143,
   "id": "ae309efe-92b5-464a-a8bd-575d193ce6f4",
   "metadata": {},
   "outputs": [
    {
     "data": {
      "text/html": [
       "<div>\n",
       "<style scoped>\n",
       "    .dataframe tbody tr th:only-of-type {\n",
       "        vertical-align: middle;\n",
       "    }\n",
       "\n",
       "    .dataframe tbody tr th {\n",
       "        vertical-align: top;\n",
       "    }\n",
       "\n",
       "    .dataframe thead th {\n",
       "        text-align: right;\n",
       "    }\n",
       "</style>\n",
       "<table border=\"1\" class=\"dataframe\">\n",
       "  <thead>\n",
       "    <tr style=\"text-align: right;\">\n",
       "      <th></th>\n",
       "      <th>Datos nulos</th>\n",
       "      <th>Porcentaje de nulos</th>\n",
       "    </tr>\n",
       "  </thead>\n",
       "  <tbody>\n",
       "    <tr>\n",
       "      <th>Cabin</th>\n",
       "      <td>687</td>\n",
       "      <td>0.771</td>\n",
       "    </tr>\n",
       "    <tr>\n",
       "      <th>Age</th>\n",
       "      <td>177</td>\n",
       "      <td>0.199</td>\n",
       "    </tr>\n",
       "    <tr>\n",
       "      <th>Embarked</th>\n",
       "      <td>2</td>\n",
       "      <td>0.002</td>\n",
       "    </tr>\n",
       "    <tr>\n",
       "      <th>PassengerId</th>\n",
       "      <td>0</td>\n",
       "      <td>0.000</td>\n",
       "    </tr>\n",
       "    <tr>\n",
       "      <th>Survived</th>\n",
       "      <td>0</td>\n",
       "      <td>0.000</td>\n",
       "    </tr>\n",
       "    <tr>\n",
       "      <th>Pclass</th>\n",
       "      <td>0</td>\n",
       "      <td>0.000</td>\n",
       "    </tr>\n",
       "    <tr>\n",
       "      <th>Name</th>\n",
       "      <td>0</td>\n",
       "      <td>0.000</td>\n",
       "    </tr>\n",
       "    <tr>\n",
       "      <th>Sex</th>\n",
       "      <td>0</td>\n",
       "      <td>0.000</td>\n",
       "    </tr>\n",
       "    <tr>\n",
       "      <th>SibSp</th>\n",
       "      <td>0</td>\n",
       "      <td>0.000</td>\n",
       "    </tr>\n",
       "    <tr>\n",
       "      <th>Parch</th>\n",
       "      <td>0</td>\n",
       "      <td>0.000</td>\n",
       "    </tr>\n",
       "    <tr>\n",
       "      <th>Ticket</th>\n",
       "      <td>0</td>\n",
       "      <td>0.000</td>\n",
       "    </tr>\n",
       "    <tr>\n",
       "      <th>Fare</th>\n",
       "      <td>0</td>\n",
       "      <td>0.000</td>\n",
       "    </tr>\n",
       "  </tbody>\n",
       "</table>\n",
       "</div>"
      ],
      "text/plain": [
       "             Datos nulos   Porcentaje de nulos\n",
       "Cabin                687                 0.771\n",
       "Age                  177                 0.199\n",
       "Embarked               2                 0.002\n",
       "PassengerId            0                 0.000\n",
       "Survived               0                 0.000\n",
       "Pclass                 0                 0.000\n",
       "Name                   0                 0.000\n",
       "Sex                    0                 0.000\n",
       "SibSp                  0                 0.000\n",
       "Parch                  0                 0.000\n",
       "Ticket                 0                 0.000\n",
       "Fare                   0                 0.000"
      ]
     },
     "execution_count": 143,
     "metadata": {},
     "output_type": "execute_result"
    }
   ],
   "source": [
    "# Visión completa de los valores nulos en el dataset\n",
    "\n",
    "nulo_completo= pd.concat([nulo, porcentaje_nulo], axis=1, keys= ['Datos nulos', ' Porcentaje de nulos'])\n",
    "nulo_completo"
   ]
  },
  {
   "cell_type": "markdown",
   "id": "98a74886-132f-40e8-9570-afc586e62f80",
   "metadata": {},
   "source": [
    "## Análisis del Dataset"
   ]
  },
  {
   "cell_type": "markdown",
   "id": "5df77485-164b-4f09-aa2b-ce1ea4ad9d65",
   "metadata": {},
   "source": [
    "El **dataset** contiene un total de **418 registros (filas)** y **12 columnas**. \n",
    "\n",
    "#### Tipos de Datos:\n",
    "- **2 columnas** con tipo de datos `float64`:\n",
    "  - `Age`\n",
    "  - `Fare`\n",
    "  \n",
    "- **5 columnas** con tipo de datos `int64` (numéricas):\n",
    "  - `PassengerId`\n",
    "  - `Survived`\n",
    "  - `Pclass`\n",
    "  - `SibSp`\n",
    "  - `Parch`\n",
    "  \n",
    "- **5 columnas** con tipo de datos `object` (categóricas):\n",
    "  - `Name`\n",
    "  - `Sex`\n",
    "  - `Ticket`\n",
    "  - `Cabin`\n",
    "  - `Embarked`\n",
    "\n",
    "#### Descripción de las Columnas:\n",
    "\n",
    "| **Columna**    | **Descripción**                                                                                      |\n",
    "|----------------|------------------------------------------------------------------------------------------------------|\n",
    "| **PassengerId**| Identificador único para cada pasajero.                                                             |\n",
    "| **Survived**   | `0` significa que el pasajero **no sobrevivió** y `1` significa que **sobrevivió**.                  |\n",
    "| **Pclass**     | Clase del pasajero: 1, 2 o 3.                                                                        |\n",
    "| **Name**       | Nombre del pasajero.                                                                                 |\n",
    "| **Sex**        | Género del pasajero: `male` o `female`.                                                               |\n",
    "| **Age**        | Edad del pasajero, variable numérica.                                                                |\n",
    "| **SibSp**      | Número de hermanos o esposas a bordo. Variable numérica.                                              |\n",
    "| **Parch**      | Número de padres o hijos a bordo. Variable numérica.                                                 |\n",
    "| **Ticket**     | Número de billete.                                                                                  |\n",
    "| **Fare**       | Tarifa del billete. Variable numérica.                                                              |\n",
    "| **Cabin**      | Número de camarote.                                                                                 |\n",
    "| **Embarked**   | Puerto de embarque del pasajero: `C` = Cherbourg; `Q` = Queenstown; `S` = Southampton.                                           |\n",
    "\n",
    "#### Resumen de valores nulos:\n",
    "- **Age**: 177 valores nulos.\n",
    "- **Embarked**: 2 valores nulo.\n",
    "- **Cabin**: 687 valores nulos."
   ]
  },
  {
   "cell_type": "markdown",
   "id": "9a18ee8f-c1eb-48d6-a96c-dd5beddc722d",
   "metadata": {},
   "source": [
    "## Consideraciones después del Análisis de dataset"
   ]
  },
  {
   "cell_type": "markdown",
   "id": "075c1bdf-d05b-4b66-9e23-5071ced77c8c",
   "metadata": {},
   "source": [
    "- **Age:** imputar con la mediana de `Age`.\n",
    "- **Embarked:** imputar con la moda de `Embarked`.\n",
    "- **Cabin:** eliminar la esta columna ya que el 70% son valores nulos."
   ]
  },
  {
   "cell_type": "code",
   "execution_count": 149,
   "id": "7bf713fd-f040-4fee-b4ca-ec956dbc1577",
   "metadata": {},
   "outputs": [],
   "source": [
    "# Imputar 'Age' y 'Fare' con la mediana\n",
    "\n",
    "datos['Age'] = datos['Age'].fillna(datos['Age'].median())\n",
    "datos['Embarked'] = datos['Embarked'].fillna(datos['Embarked'].mode()[0])"
   ]
  },
  {
   "cell_type": "code",
   "execution_count": 151,
   "id": "0878a022-c819-463a-9336-9527850001d2",
   "metadata": {},
   "outputs": [
    {
     "data": {
      "text/plain": [
       "PassengerId      0\n",
       "Survived         0\n",
       "Pclass           0\n",
       "Name             0\n",
       "Sex              0\n",
       "Age              0\n",
       "SibSp            0\n",
       "Parch            0\n",
       "Ticket           0\n",
       "Fare             0\n",
       "Cabin          687\n",
       "Embarked         0\n",
       "dtype: int64"
      ]
     },
     "execution_count": 151,
     "metadata": {},
     "output_type": "execute_result"
    }
   ],
   "source": [
    "# Comprobación si han sido modificados los nulos\n",
    "\n",
    "datos.isnull().sum()"
   ]
  },
  {
   "cell_type": "code",
   "execution_count": 153,
   "id": "b70c9d04-b2b4-470c-b3e8-d8243fcdca21",
   "metadata": {},
   "outputs": [],
   "source": [
    "# Quitar la columna `Cabin'\n",
    "\n",
    "datos.drop('Cabin', axis=1, inplace= True)"
   ]
  },
  {
   "cell_type": "code",
   "execution_count": 155,
   "id": "07994fa6-7ce8-425c-bd03-d141df82b635",
   "metadata": {},
   "outputs": [
    {
     "data": {
      "text/plain": [
       "Index(['PassengerId', 'Survived', 'Pclass', 'Name', 'Sex', 'Age', 'SibSp',\n",
       "       'Parch', 'Ticket', 'Fare', 'Embarked'],\n",
       "      dtype='object')"
      ]
     },
     "execution_count": 155,
     "metadata": {},
     "output_type": "execute_result"
    }
   ],
   "source": [
    "# Comprobación de que la columna ha sido eliminada\n",
    "\n",
    "datos.columns"
   ]
  },
  {
   "cell_type": "markdown",
   "id": "e5b0ea34-4360-4d03-b872-32a13009f34a",
   "metadata": {},
   "source": [
    "## Análisis y creación de visualizaciones de los datos"
   ]
  },
  {
   "cell_type": "markdown",
   "id": "dc17134f-c87e-4473-b3dd-baab13d4ab50",
   "metadata": {},
   "source": [
    "### Pasajeros según Clase"
   ]
  },
  {
   "cell_type": "code",
   "execution_count": 161,
   "id": "2eb37e8f-5fd1-41ba-bde8-81eb14e0ef1a",
   "metadata": {},
   "outputs": [
    {
     "name": "stdout",
     "output_type": "stream",
     "text": [
      "Total de pasajeros en Primera Clase: 216\n",
      "Total de pasajeros en Segunda Clase: 184\n",
      "Total de pasajeros en Tercera Clase: 491\n"
     ]
    }
   ],
   "source": [
    "# Obtención de los pasajeros totales según Clase\n",
    "\n",
    "primera_clase = (datos['Pclass'] == 1).sum()\n",
    "segunda_clase = (datos['Pclass'] == 2).sum()\n",
    "tercera_clase = (datos['Pclass'] == 3).sum()\n",
    "\n",
    "print('Total de pasajeros en Primera Clase:', primera_clase)\n",
    "print('Total de pasajeros en Segunda Clase:', segunda_clase)\n",
    "print('Total de pasajeros en Tercera Clase:', tercera_clase)"
   ]
  },
  {
   "cell_type": "code",
   "execution_count": 163,
   "id": "bb5f3b93-8f06-4e47-b96e-04f22af2ed12",
   "metadata": {},
   "outputs": [
    {
     "data": {
      "image/png": "[encoded data removed]",
      "text/plain": [
       "<Figure size 500x600 with 1 Axes>"
      ]
     },
     "metadata": {},
     "output_type": "display_data"
    }
   ],
   "source": [
    "# Creación del Gráfico de Tarta\n",
    "\n",
    "\n",
    "plt.figure(figsize=(5,6))\n",
    "colores= ['#7eb1e2', '#529f83', '#f47f30']\n",
    "\n",
    "labels=['Primera clase', 'Segunda clase', 'Tercera clase']\n",
    "sizes= [primera_clase, segunda_clase, tercera_clase]\n",
    "\n",
    "plt.pie(sizes, labels=labels, autopct='%1.1f%%', colors=colores)\n",
    "plt.title('Distribución de pasajeros según Clase', fontsize=14)\n",
    "\n",
    "# Visualización del gráfico\n",
    "\n",
    "plt.show()\n"
   ]
  },
  {
   "cell_type": "markdown",
   "id": "8ee81f3c-1083-46cb-96de-6085ed91ee05",
   "metadata": {},
   "source": [
    "### Supervivientes según Clase"
   ]
  },
  {
   "cell_type": "code",
   "execution_count": 166,
   "id": "1e25da36-581f-4f47-919a-339738b9d275",
   "metadata": {},
   "outputs": [
    {
     "data": {
      "image/png": "[encoded data removed]",
      "text/plain": [
       "<Figure size 500x600 with 1 Axes>"
      ]
     },
     "metadata": {},
     "output_type": "display_data"
    }
   ],
   "source": [
    "# Creación del Gráfico con Seaborn de Countplot\n",
    "\n",
    "plt.figure(figsize=(5,6))\n",
    "sns.set_style(\"whitegrid\")\n",
    "colores = ['#f47f30', '#7eb1e2'] \n",
    "\n",
    "# Creación del gráfico de barras\n",
    "sns.countplot(x ='Pclass', hue ='Survived', data=datos, palette= colores)\n",
    "\n",
    "# Creación de títulos\n",
    "plt.title('Supervivientes según Clase')\n",
    "plt.xlabel('Clase')\n",
    "plt.ylabel('Total')\n",
    "plt.legend(['Fallecidos', 'Supervivientes'])\n",
    "\n",
    "# Visualización del gráfico\n",
    "plt.show()\n"
   ]
  },
  {
   "cell_type": "markdown",
   "id": "6c54bbb9-2293-4ec4-9202-57a1cd76e176",
   "metadata": {},
   "source": [
    "Como se puede observar, la clase con mayor número de fallecidos fue la Tercera Clase, con una cifra que casi triplica a la de la Primera y Segunda Clase. En contraste, la Primera Clase fue la que registró el mayor número de supervivientes."
   ]
  },
  {
   "cell_type": "markdown",
   "id": "6d196124-6462-4176-9b6b-cee3821f8f77",
   "metadata": {},
   "source": [
    "### Superviviencia según Género y Clase"
   ]
  },
  {
   "cell_type": "code",
   "execution_count": 170,
   "id": "0fe905e1-80c7-480f-8d76-100bd3e4e162",
   "metadata": {},
   "outputs": [
    {
     "data": {
      "text/html": [
       "<style type=\"text/css\">\n",
       "#T_1ff8e_row0_col0, #T_1ff8e_row0_col1, #T_1ff8e_row0_col3, #T_1ff8e_row3_col2 {\n",
       "  background-color: #fff7fb;\n",
       "  color: #000000;\n",
       "}\n",
       "#T_1ff8e_row0_col2, #T_1ff8e_row1_col2 {\n",
       "  background-color: #f7f0f7;\n",
       "  color: #000000;\n",
       "}\n",
       "#T_1ff8e_row1_col0 {\n",
       "  background-color: #97b7d7;\n",
       "  color: #000000;\n",
       "}\n",
       "#T_1ff8e_row1_col1 {\n",
       "  background-color: #abbfdc;\n",
       "  color: #000000;\n",
       "}\n",
       "#T_1ff8e_row1_col3 {\n",
       "  background-color: #dedcec;\n",
       "  color: #000000;\n",
       "}\n",
       "#T_1ff8e_row2_col0 {\n",
       "  background-color: #b0c2de;\n",
       "  color: #000000;\n",
       "}\n",
       "#T_1ff8e_row2_col1, #T_1ff8e_row2_col3 {\n",
       "  background-color: #7dacd1;\n",
       "  color: #f1f1f1;\n",
       "}\n",
       "#T_1ff8e_row2_col2 {\n",
       "  background-color: #529bc7;\n",
       "  color: #f1f1f1;\n",
       "}\n",
       "#T_1ff8e_row3_col0 {\n",
       "  background-color: #dcdaeb;\n",
       "  color: #000000;\n",
       "}\n",
       "#T_1ff8e_row3_col1 {\n",
       "  background-color: #f6eff7;\n",
       "  color: #000000;\n",
       "}\n",
       "#T_1ff8e_row3_col3 {\n",
       "  background-color: #faf3f9;\n",
       "  color: #000000;\n",
       "}\n",
       "#T_1ff8e_row4_col0, #T_1ff8e_row4_col1, #T_1ff8e_row4_col2, #T_1ff8e_row4_col3 {\n",
       "  background-color: #023858;\n",
       "  color: #f1f1f1;\n",
       "}\n",
       "</style>\n",
       "<table id=\"T_1ff8e\">\n",
       "  <thead>\n",
       "    <tr>\n",
       "      <th class=\"blank\" >&nbsp;</th>\n",
       "      <th class=\"index_name level0\" >Pclass</th>\n",
       "      <th id=\"T_1ff8e_level0_col0\" class=\"col_heading level0 col0\" >1</th>\n",
       "      <th id=\"T_1ff8e_level0_col1\" class=\"col_heading level0 col1\" >2</th>\n",
       "      <th id=\"T_1ff8e_level0_col2\" class=\"col_heading level0 col2\" >3</th>\n",
       "      <th id=\"T_1ff8e_level0_col3\" class=\"col_heading level0 col3\" >All</th>\n",
       "    </tr>\n",
       "    <tr>\n",
       "      <th class=\"index_name level0\" >Sex</th>\n",
       "      <th class=\"index_name level1\" >Survived</th>\n",
       "      <th class=\"blank col0\" >&nbsp;</th>\n",
       "      <th class=\"blank col1\" >&nbsp;</th>\n",
       "      <th class=\"blank col2\" >&nbsp;</th>\n",
       "      <th class=\"blank col3\" >&nbsp;</th>\n",
       "    </tr>\n",
       "  </thead>\n",
       "  <tbody>\n",
       "    <tr>\n",
       "      <th id=\"T_1ff8e_level0_row0\" class=\"row_heading level0 row0\" rowspan=\"2\">female</th>\n",
       "      <th id=\"T_1ff8e_level1_row0\" class=\"row_heading level1 row0\" >0</th>\n",
       "      <td id=\"T_1ff8e_row0_col0\" class=\"data row0 col0\" >3</td>\n",
       "      <td id=\"T_1ff8e_row0_col1\" class=\"data row0 col1\" >6</td>\n",
       "      <td id=\"T_1ff8e_row0_col2\" class=\"data row0 col2\" >72</td>\n",
       "      <td id=\"T_1ff8e_row0_col3\" class=\"data row0 col3\" >81</td>\n",
       "    </tr>\n",
       "    <tr>\n",
       "      <th id=\"T_1ff8e_level1_row1\" class=\"row_heading level1 row1\" >1</th>\n",
       "      <td id=\"T_1ff8e_row1_col0\" class=\"data row1 col0\" >91</td>\n",
       "      <td id=\"T_1ff8e_row1_col1\" class=\"data row1 col1\" >70</td>\n",
       "      <td id=\"T_1ff8e_row1_col2\" class=\"data row1 col2\" >72</td>\n",
       "      <td id=\"T_1ff8e_row1_col3\" class=\"data row1 col3\" >233</td>\n",
       "    </tr>\n",
       "    <tr>\n",
       "      <th id=\"T_1ff8e_level0_row2\" class=\"row_heading level0 row2\" rowspan=\"2\">male</th>\n",
       "      <th id=\"T_1ff8e_level1_row2\" class=\"row_heading level1 row2\" >0</th>\n",
       "      <td id=\"T_1ff8e_row2_col0\" class=\"data row2 col0\" >77</td>\n",
       "      <td id=\"T_1ff8e_row2_col1\" class=\"data row2 col1\" >91</td>\n",
       "      <td id=\"T_1ff8e_row2_col2\" class=\"data row2 col2\" >300</td>\n",
       "      <td id=\"T_1ff8e_row2_col3\" class=\"data row2 col3\" >468</td>\n",
       "    </tr>\n",
       "    <tr>\n",
       "      <th id=\"T_1ff8e_level1_row3\" class=\"row_heading level1 row3\" >1</th>\n",
       "      <td id=\"T_1ff8e_row3_col0\" class=\"data row3 col0\" >45</td>\n",
       "      <td id=\"T_1ff8e_row3_col1\" class=\"data row3 col1\" >17</td>\n",
       "      <td id=\"T_1ff8e_row3_col2\" class=\"data row3 col2\" >47</td>\n",
       "      <td id=\"T_1ff8e_row3_col3\" class=\"data row3 col3\" >109</td>\n",
       "    </tr>\n",
       "    <tr>\n",
       "      <th id=\"T_1ff8e_level0_row4\" class=\"row_heading level0 row4\" >All</th>\n",
       "      <th id=\"T_1ff8e_level1_row4\" class=\"row_heading level1 row4\" ></th>\n",
       "      <td id=\"T_1ff8e_row4_col0\" class=\"data row4 col0\" >216</td>\n",
       "      <td id=\"T_1ff8e_row4_col1\" class=\"data row4 col1\" >184</td>\n",
       "      <td id=\"T_1ff8e_row4_col2\" class=\"data row4 col2\" >491</td>\n",
       "      <td id=\"T_1ff8e_row4_col3\" class=\"data row4 col3\" >891</td>\n",
       "    </tr>\n",
       "  </tbody>\n",
       "</table>\n"
      ],
      "text/plain": [
       "<pandas.io.formats.style.Styler at 0x12677d340>"
      ]
     },
     "execution_count": 170,
     "metadata": {},
     "output_type": "execute_result"
    }
   ],
   "source": [
    "# Creación de un dataframe para visualizar mejor los datos antes de graficarlos.\n",
    "# 0 significa que el pasajero no sobrevivió y 1 significa que sobrevivió.\n",
    "\n",
    "pd.crosstab(index=[datos['Sex'], datos['Survived']],\n",
    "            columns=datos['Pclass'], \n",
    "            margins=True).style.background_gradient(cmap='PuBu')\n"
   ]
  },
  {
   "cell_type": "markdown",
   "id": "d941e2a4-ce24-46bb-b0d2-ac1129b55aef",
   "metadata": {},
   "source": [
    "### Gráficos de Supervivencia por Clase y Sexo de los Pasajeros"
   ]
  },
  {
   "cell_type": "code",
   "execution_count": 173,
   "id": "fb0d2f58-562f-4589-86af-bf6f7b73f82f",
   "metadata": {},
   "outputs": [
    {
     "data": {
      "image/png": "[encoded data removed]",
      "text/plain": [
       "<Figure size 891.875x400 with 2 Axes>"
      ]
     },
     "metadata": {},
     "output_type": "display_data"
    }
   ],
   "source": [
    "# Creación de los gráficos\n",
    "\n",
    "# Estilo y colores\n",
    "sns.set_style(\"whitegrid\")\n",
    "colores = ['#c1145c', '#7eb1e2']\n",
    "\n",
    "# Gráfico con catplot\n",
    "graficobarras = sns.catplot(x='Pclass', hue='Sex', col='Survived', data=datos, kind='count', palette=colores, height=4, aspect=1)\n",
    "\n",
    "# Ejes y títulos\n",
    "graficobarras.set_axis_labels(\"Clase\", \"Total\")\n",
    "graficobarras.set_titles(col_template=\"{col_name}\")\n",
    "\n",
    "# Títulos personalizados para cada columna\n",
    "for ax, title in zip(graficobarras.axes.flat, [\"Fallecidos según Clase y Género\", \"Supervivientes según Clase y Género\"]):\n",
    "    ax.set_title(title)\n",
    "\n",
    "# Mostrar gráfico\n",
    "plt.show()\n"
   ]
  },
  {
   "cell_type": "markdown",
   "id": "2f806d7c-584c-4b14-bfcb-fc03122b59bd",
   "metadata": {},
   "source": [
    "En ambos gráficos se aprecia claramente que las mujeres presentan una tasa de supervivencia considerablemente mayor en todas las clases sociales. Esta diferencia es especialmente marcada si se compara con los hombres, lo que sugiere que el género fue un factor determinante en las probabilidades de sobrevivir al naufragio, independientemente de la clase del pasajero."
   ]
  },
  {
   "cell_type": "markdown",
   "id": "2ef0ffe9-c54a-4927-a026-5e3a5c443782",
   "metadata": {},
   "source": [
    "#### ¿Qué proporciones de supervivientes hubo con respecto al total de pasajeros?"
   ]
  },
  {
   "cell_type": "code",
   "execution_count": 177,
   "id": "50ba34af-15e2-4ef0-a084-3475ce380b49",
   "metadata": {},
   "outputs": [
    {
     "name": "stdout",
     "output_type": "stream",
     "text": [
      "Porcentaje de pasajeros que sobrevivieron: 38.38%\n"
     ]
    }
   ],
   "source": [
    "# Total de pasajeros\n",
    "total_pasajeros = len(datos)\n",
    "\n",
    "# Total de pasajeros que sobrevivieron\n",
    "total_supervivientes = datos['Survived'].sum()\n",
    "\n",
    "# Porcentaje\n",
    "porcentaje_supervivientes = (total_supervivientes / total_pasajeros) * 100\n",
    "\n",
    "# Mostrar resultado redondeado\n",
    "print(f\"Porcentaje de pasajeros que sobrevivieron: {porcentaje_supervivientes:.2f}%\")\n"
   ]
  },
  {
   "cell_type": "markdown",
   "id": "a6efc766-a76b-4f1b-8a99-212db1b6e932",
   "metadata": {},
   "source": [
    "#### ¿Qué porcentaje de los supervivientes fueron hombres y mujeres respecto al total de pasajeros?"
   ]
  },
  {
   "cell_type": "code",
   "execution_count": 180,
   "id": "4a0d4459-520d-4996-86b3-43d9ee78a13a",
   "metadata": {},
   "outputs": [
    {
     "name": "stdout",
     "output_type": "stream",
     "text": [
      "El 74.20% de las mujeres sobrevivieron al naufragio, mientras que solo el 18.89% de los hombres lo hizo.\n"
     ]
    }
   ],
   "source": [
    "# Calculamos el porcentaje de supervivientes por género\n",
    "supervivencia_genero = datos.groupby('Sex')['Survived'].mean() * 100\n",
    "\n",
    "# Extraemos los valores\n",
    "mujeres = supervivencia_genero['female']\n",
    "hombres = supervivencia_genero['male']\n",
    "\n",
    "# Creación del texto \n",
    "print(f\"El {mujeres:.2f}% de las mujeres sobrevivieron al naufragio, mientras que solo el {hombres:.2f}% de los hombres lo hizo.\")\n",
    "\n",
    "\n"
   ]
  },
  {
   "cell_type": "markdown",
   "id": "1f28c533-279d-46c3-b6b8-ffaba13d0ead",
   "metadata": {},
   "source": [
    "### Análisis según Género"
   ]
  },
  {
   "cell_type": "code",
   "execution_count": 183,
   "id": "a29a40f3-0d90-48f6-b31b-651533fbe2c8",
   "metadata": {},
   "outputs": [
    {
     "data": {
      "text/html": [
       "<style type=\"text/css\">\n",
       "#T_035a6_row0_col0 {\n",
       "  background-color: #023858;\n",
       "  color: #f1f1f1;\n",
       "}\n",
       "#T_035a6_row1_col0 {\n",
       "  background-color: #fff7fb;\n",
       "  color: #000000;\n",
       "}\n",
       "</style>\n",
       "<table id=\"T_035a6\">\n",
       "  <thead>\n",
       "    <tr>\n",
       "      <th class=\"blank level0\" >&nbsp;</th>\n",
       "      <th id=\"T_035a6_level0_col0\" class=\"col_heading level0 col0\" >Total</th>\n",
       "    </tr>\n",
       "    <tr>\n",
       "      <th class=\"index_name level0\" >Sex</th>\n",
       "      <th class=\"blank col0\" >&nbsp;</th>\n",
       "    </tr>\n",
       "  </thead>\n",
       "  <tbody>\n",
       "    <tr>\n",
       "      <th id=\"T_035a6_level0_row0\" class=\"row_heading level0 row0\" >male</th>\n",
       "      <td id=\"T_035a6_row0_col0\" class=\"data row0 col0\" >577</td>\n",
       "    </tr>\n",
       "    <tr>\n",
       "      <th id=\"T_035a6_level0_row1\" class=\"row_heading level0 row1\" >female</th>\n",
       "      <td id=\"T_035a6_row1_col0\" class=\"data row1 col0\" >314</td>\n",
       "    </tr>\n",
       "  </tbody>\n",
       "</table>\n"
      ],
      "text/plain": [
       "<pandas.io.formats.style.Styler at 0x126d4f710>"
      ]
     },
     "execution_count": 183,
     "metadata": {},
     "output_type": "execute_result"
    }
   ],
   "source": [
    "# Conteo de hombres y mujeres\n",
    "\n",
    "datos['Sex'].value_counts().to_frame(name='Total').style.background_gradient(cmap='PuBu')\n"
   ]
  },
  {
   "cell_type": "markdown",
   "id": "199dfc00-334d-46bf-9144-5e217ca1deee",
   "metadata": {},
   "source": [
    "#### Gráfico de barras según género de los pasajeros"
   ]
  },
  {
   "cell_type": "code",
   "execution_count": 186,
   "id": "5d239aa4-1a39-4807-ac87-079de3d59440",
   "metadata": {},
   "outputs": [
    {
     "name": "stderr",
     "output_type": "stream",
     "text": [
      "/var/folders/0y/cnjyxcjx7jq1btnpkh4fnd280000gn/T/ipykernel_39515/3378294241.py:9: FutureWarning: \n",
      "\n",
      "Passing `palette` without assigning `hue` is deprecated and will be removed in v0.14.0. Assign the `x` variable to `hue` and set `legend=False` for the same effect.\n",
      "\n",
      "  sns.countplot(x='Sex', data=datos, palette=colores)\n"
     ]
    },
    {
     "data": {
      "image/png": "[encoded data removed]",
      "text/plain": [
       "<Figure size 600x400 with 1 Axes>"
      ]
     },
     "metadata": {},
     "output_type": "display_data"
    }
   ],
   "source": [
    "# Creación de la visualización\n",
    "\n",
    "# Estilo y colores\n",
    "sns.set_style(\"whitegrid\")\n",
    "colores = ['#7eb1e2','#c1145c']\n",
    "\n",
    "# Gráfico con countplot\n",
    "plt.figure(figsize=(6, 4))\n",
    "sns.countplot(x='Sex', data=datos, palette=colores)\n",
    "\n",
    "# Creación de títulos\n",
    "plt.title('Distribución de Género en los Pasajeros')\n",
    "plt.xlabel('Género')\n",
    "plt.ylabel('Total de Pasajeros')\n",
    "\n",
    "# Mostrar gráfico\n",
    "plt.xticks(ticks=[0, 1], labels=['Masculino', 'Femenino'])\n",
    "plt.show()"
   ]
  },
  {
   "cell_type": "markdown",
   "id": "17a1c9ed-118c-484e-8259-cbe88b046a64",
   "metadata": {},
   "source": [
    "#### Gráfico de barras apiladas que muestra por género si sobrevivio o no\n",
    "\n",
    "\n"
   ]
  },
  {
   "cell_type": "code",
   "execution_count": 189,
   "id": "580bac2d-cb6a-4db3-a463-fccb8e3ff68f",
   "metadata": {},
   "outputs": [
    {
     "data": {
      "image/png": "[encoded data removed]",
      "text/plain": [
       "<Figure size 600x400 with 1 Axes>"
      ]
     },
     "metadata": {},
     "output_type": "display_data"
    }
   ],
   "source": [
    "#Creación del gráfico\n",
    "\n",
    "# Agrupamos los datos por género y supervivencia\n",
    "genero_supervivencia = datos.groupby(['Sex', 'Survived']).size().unstack()\n",
    "\n",
    "# Colores:\n",
    "colores = ['#f47f30', '#7eb1e2']  \n",
    "\n",
    "# Crear gráfico de barras apiladas\n",
    "genero_supervivencia.plot(kind='bar', stacked=True, color=colores, figsize=(6, 4))\n",
    "\n",
    "# Títulos y etiquetas\n",
    "plt.title('Supervivientes y fallecidos por Género')\n",
    "plt.xlabel('Género')\n",
    "plt.ylabel('Total de Pasajeros')\n",
    "plt.legend(['Fallecidos', 'Supervivientes'])\n",
    "plt.xticks(rotation=0, ticks=[0, 1], labels=['Femenino','Masculino'])\n",
    "\n",
    "# Mostrar gráfico\n",
    "plt.tight_layout()\n",
    "plt.show()\n"
   ]
  },
  {
   "cell_type": "markdown",
   "id": "60e704f4-4271-494a-bea1-9a3c8402e8da",
   "metadata": {},
   "source": [
    "### Análisis según la Edad de los pasajeros"
   ]
  },
  {
   "cell_type": "code",
   "execution_count": 192,
   "id": "4327a781-2765-4355-a105-6f1751a1003f",
   "metadata": {},
   "outputs": [
    {
     "data": {
      "image/png": "[encoded data removed]",
      "text/plain": [
       "<Figure size 640x480 with 1 Axes>"
      ]
     },
     "metadata": {},
     "output_type": "display_data"
    }
   ],
   "source": [
    "# Creación de la visualización\n",
    "\n",
    "datos.hist(column='Age', bins = 60, color = \"#d7ad48\", alpha = 0.7)\n",
    "\n",
    "# Agregamos los titulos del gráfico\n",
    "plt.title('Distribución según Edad')\n",
    "plt.xlabel ('Edad')\n",
    "plt.ylabel('Total')\n",
    "\n",
    "# Visualización del gráfico\n",
    "plt.show()"
   ]
  },
  {
   "cell_type": "code",
   "execution_count": 194,
   "id": "0e0c6996-2f71-494f-adac-a4f259feade7",
   "metadata": {},
   "outputs": [
    {
     "name": "stdout",
     "output_type": "stream",
     "text": [
      "La edad mínima de los pasajeros es 0.42, la edad máxima es 80.0  y la edad media es 29.36.\n"
     ]
    }
   ],
   "source": [
    "# Edad mínima\n",
    "\n",
    "min= datos.Age.min()\n",
    "\n",
    "# Edad máxima\n",
    "\n",
    "max= datos.Age.max()\n",
    "\n",
    "# Edad média\n",
    "\n",
    "media= datos.Age.mean().round(2)\n",
    "\n",
    "print(f'La edad mínima de los pasajeros es {min}, la edad máxima es {max}  y la edad media es {media}.')"
   ]
  },
  {
   "cell_type": "code",
   "execution_count": 196,
   "id": "19fff2e5-bcf4-4254-a4e1-127340f29988",
   "metadata": {},
   "outputs": [
    {
     "data": {
      "text/html": [
       "<style type=\"text/css\">\n",
       "#T_84e76_row0_col0 {\n",
       "  background-color: #023858;\n",
       "  color: #f1f1f1;\n",
       "}\n",
       "#T_84e76_row1_col0 {\n",
       "  background-color: #fff7fb;\n",
       "  color: #000000;\n",
       "}\n",
       "</style>\n",
       "<table id=\"T_84e76\">\n",
       "  <thead>\n",
       "    <tr>\n",
       "      <th class=\"index_name level0\" >col_0</th>\n",
       "      <th id=\"T_84e76_level0_col0\" class=\"col_heading level0 col0\" >Total</th>\n",
       "    </tr>\n",
       "    <tr>\n",
       "      <th class=\"index_name level0\" >Edad categoria</th>\n",
       "      <th class=\"blank col0\" >&nbsp;</th>\n",
       "    </tr>\n",
       "  </thead>\n",
       "  <tbody>\n",
       "    <tr>\n",
       "      <th id=\"T_84e76_level0_row0\" class=\"row_heading level0 row0\" >Mayor de edad</th>\n",
       "      <td id=\"T_84e76_row0_col0\" class=\"data row0 col0\" >778</td>\n",
       "    </tr>\n",
       "    <tr>\n",
       "      <th id=\"T_84e76_level0_row1\" class=\"row_heading level0 row1\" >Menor de edad</th>\n",
       "      <td id=\"T_84e76_row1_col0\" class=\"data row1 col0\" >113</td>\n",
       "    </tr>\n",
       "  </tbody>\n",
       "</table>\n"
      ],
      "text/plain": [
       "<pandas.io.formats.style.Styler at 0x12857f860>"
      ]
     },
     "execution_count": 196,
     "metadata": {},
     "output_type": "execute_result"
    }
   ],
   "source": [
    "# Crear columnas para clasificar como 'Mayor de edad' o 'Menor de edad'\n",
    "\n",
    "datos['Edad categoria'] = datos['Age'].apply(lambda x: 'Mayor de edad' if x >= 18 else 'Menor de edad' if pd.notnull(x) else 'Desconocido')\n",
    "\n",
    "# Crear tabla cruzada\n",
    "tabla_edad = pd.crosstab(index= datos['Edad categoria'], columns='Total', margins=False)\n",
    "\n",
    "# Aplicar estilo\n",
    "tabla_edad.style.background_gradient(cmap='PuBu')\n"
   ]
  },
  {
   "cell_type": "markdown",
   "id": "08357e5b-9136-4ee1-bd96-2caba9fb54fb",
   "metadata": {},
   "source": [
    "#### ¿Qué porcentaje de menores de edad sobrevivieron según su género?"
   ]
  },
  {
   "cell_type": "code",
   "execution_count": 199,
   "id": "327315ed-ca27-45c4-b0fe-c19737aa00cf",
   "metadata": {},
   "outputs": [
    {
     "name": "stdout",
     "output_type": "stream",
     "text": [
      "Entre los menores de edad, sobrevivieron el 69.09% de las niñas y el 39.66% de los niños.\n"
     ]
    }
   ],
   "source": [
    "# Filtramos solo los menores de edad\n",
    "menores = datos[datos['Age'] < 18]\n",
    "\n",
    "# Calculamos la tasa de supervivencia por género dentro de los menores\n",
    "supervivencia_menores = menores.groupby('Sex')['Survived'].mean() * 100\n",
    "\n",
    "# Extraemos los valores\n",
    "porcentaje_menores_mujeres = supervivencia_menores.get('female', 0)\n",
    "porcentaje_menores_hombres = supervivencia_menores.get('male', 0)\n",
    "\n",
    "# Mostramos el resultado en texto\n",
    "print(f\"Entre los menores de edad, sobrevivieron el {porcentaje_menores_mujeres:.2f}% de las niñas y el {porcentaje_menores_hombres:.2f}% de los niños.\")\n",
    "\n"
   ]
  },
  {
   "cell_type": "markdown",
   "id": "1711f127-48b1-4ce0-babd-171f5d51d40c",
   "metadata": {},
   "source": [
    "### Gráfico de distribución de fallecidos y supervivientes según edad"
   ]
  },
  {
   "cell_type": "code",
   "execution_count": 202,
   "id": "fea8de40-4625-423e-b73e-c16517f39575",
   "metadata": {},
   "outputs": [
    {
     "data": {
      "image/png": "[encoded data removed]",
      "text/plain": [
       "<Figure size 800x500 with 1 Axes>"
      ]
     },
     "metadata": {},
     "output_type": "display_data"
    }
   ],
   "source": [
    "# Creación del gráfico\n",
    "\n",
    "plt.figure(figsize=(8,5))\n",
    "\n",
    "axs = sns.kdeplot(datos.Age[datos.Survived == 0], fill = True, color = '#f47f30', label = 'Fallecido')\n",
    "axs = sns.kdeplot(datos.Age[datos.Survived == 1], color = '#7eb1e2', label = 'Supervivientes')\n",
    "\n",
    "# Titulos del gráfico\n",
    "plt.title('Distribución de supervivientes y fallecidos según edad')\n",
    "plt.xlabel('Edad')\n",
    "plt.ylabel('Distribución')\n",
    "plt.legend({'Fallecidos', 'Supervivientes'})\n",
    "\n",
    "# Mostramos el gráfico\n",
    "plt.show()\n"
   ]
  },
  {
   "cell_type": "markdown",
   "id": "96aa5394-b817-4dac-86c7-22c32864ebac",
   "metadata": {},
   "source": [
    "#### Clasificación de los pasajeros según su rango de edad\n",
    "\n",
    "##### Teniendo en cuenta las siguientes consideraciones:\n",
    "###### - La esperanza de vida era más baja (~50 años).\n",
    "###### - Se viajaba mucho en familia, con presencia notable de niños.\n",
    "###### - Había una clara distinción entre niños, jóvenes adultos, adultos y ancianos.\n",
    "\n",
    "##### He creado la siguiente clasificación según rango de edad de los pasajeros:\n",
    "###### Niño (0-12)\n",
    "###### Adolescente (13-19)\n",
    "###### Joven Adulto (20-35)\n",
    "###### Adulto (36-50)\n",
    "###### Mayor (51+)\n",
    "\n",
    "###### "
   ]
  },
  {
   "cell_type": "code",
   "execution_count": 205,
   "id": "66a2fdd7-5a09-4d62-a6a7-89daa0601d6f",
   "metadata": {},
   "outputs": [
    {
     "data": {
      "text/html": [
       "<div>\n",
       "<style scoped>\n",
       "    .dataframe tbody tr th:only-of-type {\n",
       "        vertical-align: middle;\n",
       "    }\n",
       "\n",
       "    .dataframe tbody tr th {\n",
       "        vertical-align: top;\n",
       "    }\n",
       "\n",
       "    .dataframe thead th {\n",
       "        text-align: right;\n",
       "    }\n",
       "</style>\n",
       "<table border=\"1\" class=\"dataframe\">\n",
       "  <thead>\n",
       "    <tr style=\"text-align: right;\">\n",
       "      <th></th>\n",
       "      <th>PassengerId</th>\n",
       "      <th>Survived</th>\n",
       "      <th>Pclass</th>\n",
       "      <th>Name</th>\n",
       "      <th>Sex</th>\n",
       "      <th>Age</th>\n",
       "      <th>SibSp</th>\n",
       "      <th>Parch</th>\n",
       "      <th>Ticket</th>\n",
       "      <th>Fare</th>\n",
       "      <th>Embarked</th>\n",
       "      <th>Edad categoria</th>\n",
       "      <th>rango_edad</th>\n",
       "    </tr>\n",
       "  </thead>\n",
       "  <tbody>\n",
       "    <tr>\n",
       "      <th>0</th>\n",
       "      <td>1</td>\n",
       "      <td>0</td>\n",
       "      <td>3</td>\n",
       "      <td>Braund, Mr. Owen Harris</td>\n",
       "      <td>male</td>\n",
       "      <td>22.0</td>\n",
       "      <td>1</td>\n",
       "      <td>0</td>\n",
       "      <td>A/5 21171</td>\n",
       "      <td>7.2500</td>\n",
       "      <td>S</td>\n",
       "      <td>Mayor de edad</td>\n",
       "      <td>2</td>\n",
       "    </tr>\n",
       "    <tr>\n",
       "      <th>1</th>\n",
       "      <td>2</td>\n",
       "      <td>1</td>\n",
       "      <td>1</td>\n",
       "      <td>Cumings, Mrs. John Bradley (Florence Briggs Th...</td>\n",
       "      <td>female</td>\n",
       "      <td>38.0</td>\n",
       "      <td>1</td>\n",
       "      <td>0</td>\n",
       "      <td>PC 17599</td>\n",
       "      <td>71.2833</td>\n",
       "      <td>C</td>\n",
       "      <td>Mayor de edad</td>\n",
       "      <td>3</td>\n",
       "    </tr>\n",
       "    <tr>\n",
       "      <th>2</th>\n",
       "      <td>3</td>\n",
       "      <td>1</td>\n",
       "      <td>3</td>\n",
       "      <td>Heikkinen, Miss. Laina</td>\n",
       "      <td>female</td>\n",
       "      <td>26.0</td>\n",
       "      <td>0</td>\n",
       "      <td>0</td>\n",
       "      <td>STON/O2. 3101282</td>\n",
       "      <td>7.9250</td>\n",
       "      <td>S</td>\n",
       "      <td>Mayor de edad</td>\n",
       "      <td>2</td>\n",
       "    </tr>\n",
       "    <tr>\n",
       "      <th>3</th>\n",
       "      <td>4</td>\n",
       "      <td>1</td>\n",
       "      <td>1</td>\n",
       "      <td>Futrelle, Mrs. Jacques Heath (Lily May Peel)</td>\n",
       "      <td>female</td>\n",
       "      <td>35.0</td>\n",
       "      <td>1</td>\n",
       "      <td>0</td>\n",
       "      <td>113803</td>\n",
       "      <td>53.1000</td>\n",
       "      <td>S</td>\n",
       "      <td>Mayor de edad</td>\n",
       "      <td>2</td>\n",
       "    </tr>\n",
       "    <tr>\n",
       "      <th>4</th>\n",
       "      <td>5</td>\n",
       "      <td>0</td>\n",
       "      <td>3</td>\n",
       "      <td>Allen, Mr. William Henry</td>\n",
       "      <td>male</td>\n",
       "      <td>35.0</td>\n",
       "      <td>0</td>\n",
       "      <td>0</td>\n",
       "      <td>373450</td>\n",
       "      <td>8.0500</td>\n",
       "      <td>S</td>\n",
       "      <td>Mayor de edad</td>\n",
       "      <td>2</td>\n",
       "    </tr>\n",
       "  </tbody>\n",
       "</table>\n",
       "</div>"
      ],
      "text/plain": [
       "   PassengerId  Survived  Pclass  \\\n",
       "0            1         0       3   \n",
       "1            2         1       1   \n",
       "2            3         1       3   \n",
       "3            4         1       1   \n",
       "4            5         0       3   \n",
       "\n",
       "                                                Name     Sex   Age  SibSp  \\\n",
       "0                            Braund, Mr. Owen Harris    male  22.0      1   \n",
       "1  Cumings, Mrs. John Bradley (Florence Briggs Th...  female  38.0      1   \n",
       "2                             Heikkinen, Miss. Laina  female  26.0      0   \n",
       "3       Futrelle, Mrs. Jacques Heath (Lily May Peel)  female  35.0      1   \n",
       "4                           Allen, Mr. William Henry    male  35.0      0   \n",
       "\n",
       "   Parch            Ticket     Fare Embarked Edad categoria  rango_edad  \n",
       "0      0         A/5 21171   7.2500        S  Mayor de edad           2  \n",
       "1      0          PC 17599  71.2833        C  Mayor de edad           3  \n",
       "2      0  STON/O2. 3101282   7.9250        S  Mayor de edad           2  \n",
       "3      0            113803  53.1000        S  Mayor de edad           2  \n",
       "4      0            373450   8.0500        S  Mayor de edad           2  "
      ]
     },
     "execution_count": 205,
     "metadata": {},
     "output_type": "execute_result"
    }
   ],
   "source": [
    "# Creación de los rangos de edad\n",
    "\n",
    "datos ['rango_edad'] = 0\n",
    "datos.loc[ datos['Age'] <= 12, 'rango_edad' ] = 0\n",
    "datos.loc[ (datos['Age'] > 13) & (datos['Age'] <= 19), 'rango_edad' ] = 1\n",
    "datos.loc[ (datos['Age'] > 20) & (datos['Age'] <= 35), 'rango_edad' ] = 2\n",
    "datos.loc[ (datos['Age'] > 36) & (datos['Age'] <= 50), 'rango_edad' ] = 3\n",
    "datos.loc[ datos['Age'] > 51 ,'rango_edad' ] = 4\n",
    "\n",
    "datos.head()"
   ]
  },
  {
   "cell_type": "code",
   "execution_count": 207,
   "id": "10d94d99-3047-42b7-9067-cf7250c8457b",
   "metadata": {},
   "outputs": [
    {
     "data": {
      "text/html": [
       "<style type=\"text/css\">\n",
       "#T_c1ef1_row0_col0 {\n",
       "  background-color: #023858;\n",
       "  color: #f1f1f1;\n",
       "}\n",
       "#T_c1ef1_row1_col0 {\n",
       "  background-color: #e2dfee;\n",
       "  color: #000000;\n",
       "}\n",
       "#T_c1ef1_row2_col0 {\n",
       "  background-color: #ebe6f2;\n",
       "  color: #000000;\n",
       "}\n",
       "#T_c1ef1_row3_col0 {\n",
       "  background-color: #f2ecf5;\n",
       "  color: #000000;\n",
       "}\n",
       "#T_c1ef1_row4_col0 {\n",
       "  background-color: #fff7fb;\n",
       "  color: #000000;\n",
       "}\n",
       "</style>\n",
       "<table id=\"T_c1ef1\">\n",
       "  <thead>\n",
       "    <tr>\n",
       "      <th class=\"blank level0\" >&nbsp;</th>\n",
       "      <th id=\"T_c1ef1_level0_col0\" class=\"col_heading level0 col0\" >count</th>\n",
       "    </tr>\n",
       "    <tr>\n",
       "      <th class=\"index_name level0\" >rango_edad</th>\n",
       "      <th class=\"blank col0\" >&nbsp;</th>\n",
       "    </tr>\n",
       "  </thead>\n",
       "  <tbody>\n",
       "    <tr>\n",
       "      <th id=\"T_c1ef1_level0_row0\" class=\"row_heading level0 row0\" >2</th>\n",
       "      <td id=\"T_c1ef1_row0_col0\" class=\"data row0 col0\" >495</td>\n",
       "    </tr>\n",
       "    <tr>\n",
       "      <th id=\"T_c1ef1_level0_row1\" class=\"row_heading level0 row1\" >3</th>\n",
       "      <td id=\"T_c1ef1_row1_col0\" class=\"data row1 col0\" >131</td>\n",
       "    </tr>\n",
       "    <tr>\n",
       "      <th id=\"T_c1ef1_level0_row2\" class=\"row_heading level0 row2\" >0</th>\n",
       "      <td id=\"T_c1ef1_row2_col0\" class=\"data row2 col0\" >115</td>\n",
       "    </tr>\n",
       "    <tr>\n",
       "      <th id=\"T_c1ef1_level0_row3\" class=\"row_heading level0 row3\" >1</th>\n",
       "      <td id=\"T_c1ef1_row3_col0\" class=\"data row3 col0\" >93</td>\n",
       "    </tr>\n",
       "    <tr>\n",
       "      <th id=\"T_c1ef1_level0_row4\" class=\"row_heading level0 row4\" >4</th>\n",
       "      <td id=\"T_c1ef1_row4_col0\" class=\"data row4 col0\" >57</td>\n",
       "    </tr>\n",
       "  </tbody>\n",
       "</table>\n"
      ],
      "text/plain": [
       "<pandas.io.formats.style.Styler at 0x127d8fb60>"
      ]
     },
     "execution_count": 207,
     "metadata": {},
     "output_type": "execute_result"
    }
   ],
   "source": [
    "# Crear columnas para clasificar según rango de edad\n",
    "\n",
    "datos['rango_edad'].value_counts().to_frame().style.background_gradient(cmap='PuBu')\n"
   ]
  },
  {
   "cell_type": "code",
   "execution_count": 209,
   "id": "85020da3-4057-4166-87c7-9e3e1d4b69cb",
   "metadata": {},
   "outputs": [
    {
     "data": {
      "image/png": "[encoded data removed]",
      "text/plain": [
       "<Figure size 807.75x500 with 1 Axes>"
      ]
     },
     "metadata": {},
     "output_type": "display_data"
    }
   ],
   "source": [
    "# Definir paleta personalizada para Pclass\n",
    "\n",
    "colores_clase = {\n",
    "    1: '#529f83',\n",
    "    2: '#7eb1e2',\n",
    "    3: '#f47f30' }\n",
    "\n",
    "sns.catplot(x ='rango_edad', y ='Survived', data = datos, hue= 'Pclass', kind='point', palette=colores_clase, height=5, aspect=1.5)\n",
    "\n",
    "# Agregamos los títulos\n",
    "plt.title('Supervivencia según Rango Edad')\n",
    "plt.xlabel('Rangos de Edad')\n",
    "plt.ylabel('Porcentaje de Supervivencia')\n",
    "\n",
    "# Visualizar el gráfico\n",
    "\n",
    "plt.show()"
   ]
  },
  {
   "cell_type": "code",
   "execution_count": 210,
   "id": "4d7bc3b1-674a-4c62-a2cb-fb262bfac317",
   "metadata": {},
   "outputs": [
    {
     "data": {
      "text/html": [
       "<style type=\"text/css\">\n",
       "#T_6387b_row0_col0 {\n",
       "  background-color: #023858;\n",
       "  color: #f1f1f1;\n",
       "}\n",
       "#T_6387b_row1_col0 {\n",
       "  background-color: #bdc8e1;\n",
       "  color: #000000;\n",
       "}\n",
       "#T_6387b_row2_col0 {\n",
       "  background-color: #f8f1f8;\n",
       "  color: #000000;\n",
       "}\n",
       "#T_6387b_row3_col0 {\n",
       "  background-color: #dbdaeb;\n",
       "  color: #000000;\n",
       "}\n",
       "#T_6387b_row4_col0 {\n",
       "  background-color: #fff7fb;\n",
       "  color: #000000;\n",
       "}\n",
       "</style>\n",
       "<table id=\"T_6387b\">\n",
       "  <thead>\n",
       "    <tr>\n",
       "      <th class=\"blank level0\" >&nbsp;</th>\n",
       "      <th id=\"T_6387b_level0_col0\" class=\"col_heading level0 col0\" >% Supervivencia</th>\n",
       "    </tr>\n",
       "    <tr>\n",
       "      <th class=\"index_name level0\" >rango_edad</th>\n",
       "      <th class=\"blank col0\" >&nbsp;</th>\n",
       "    </tr>\n",
       "  </thead>\n",
       "  <tbody>\n",
       "    <tr>\n",
       "      <th id=\"T_6387b_level0_row0\" class=\"row_heading level0 row0\" >0</th>\n",
       "      <td id=\"T_6387b_row0_col0\" class=\"data row0 col0\" >50.430000</td>\n",
       "    </tr>\n",
       "    <tr>\n",
       "      <th id=\"T_6387b_level0_row1\" class=\"row_heading level0 row1\" >1</th>\n",
       "      <td id=\"T_6387b_row1_col0\" class=\"data row1 col0\" >39.780000</td>\n",
       "    </tr>\n",
       "    <tr>\n",
       "      <th id=\"T_6387b_level0_row2\" class=\"row_heading level0 row2\" >2</th>\n",
       "      <td id=\"T_6387b_row2_col0\" class=\"data row2 col0\" >35.760000</td>\n",
       "    </tr>\n",
       "    <tr>\n",
       "      <th id=\"T_6387b_level0_row3\" class=\"row_heading level0 row3\" >3</th>\n",
       "      <td id=\"T_6387b_row3_col0\" class=\"data row3 col0\" >38.170000</td>\n",
       "    </tr>\n",
       "    <tr>\n",
       "      <th id=\"T_6387b_level0_row4\" class=\"row_heading level0 row4\" >4</th>\n",
       "      <td id=\"T_6387b_row4_col0\" class=\"data row4 col0\" >35.090000</td>\n",
       "    </tr>\n",
       "  </tbody>\n",
       "</table>\n"
      ],
      "text/plain": [
       "<pandas.io.formats.style.Styler at 0x127c3a9f0>"
      ]
     },
     "execution_count": 210,
     "metadata": {},
     "output_type": "execute_result"
    }
   ],
   "source": [
    "# Calcular porcentaje de supervivencia por rango_edad\n",
    "porcentaje_supervivencia = datos.groupby('rango_edad')['Survived'].mean()\n",
    "\n",
    "# Convertimos a porcentaje y lo pasamos a un DataFrame\n",
    "porcentaje_supervivencia = (porcentaje_supervivencia * 100).round(2).to_frame()\n",
    "\n",
    "# Renombramos la columna para mayor claridad\n",
    "porcentaje_supervivencia.columns = ['% Supervivencia']\n",
    "\n",
    "# Visualizar\n",
    "porcentaje_supervivencia.style.background_gradient(cmap='PuBu')"
   ]
  },
  {
   "cell_type": "markdown",
   "id": "f15ae39e-e354-4255-9d3f-2ec8b18b1dd2",
   "metadata": {},
   "source": [
    "### Análisis según el coste del billete"
   ]
  },
  {
   "cell_type": "code",
   "execution_count": 214,
   "id": "4fc54c1c-6823-4dee-8347-b73eaa2f230d",
   "metadata": {},
   "outputs": [
    {
     "name": "stdout",
     "output_type": "stream",
     "text": [
      "El billete más caro: 512.3292\n",
      "El billete más económico: 0.0\n"
     ]
    }
   ],
   "source": [
    "# Valor máximo y mínimo del billete\n",
    "\n",
    "print('El billete más caro:', datos['Fare'].max())\n",
    "print('El billete más económico:', datos['Fare'].min())"
   ]
  },
  {
   "cell_type": "markdown",
   "id": "9cc31257-9ca4-4ab7-a40e-02eaee09e08f",
   "metadata": {},
   "source": [
    "#### Clasificación de los billetes según el precio y tasa de supervivencia"
   ]
  },
  {
   "cell_type": "code",
   "execution_count": 217,
   "id": "b313101d-c5f3-43bb-a863-1f0911eb5e29",
   "metadata": {},
   "outputs": [
    {
     "data": {
      "text/html": [
       "<style type=\"text/css\">\n",
       "#T_a02a8_row0_col0 {\n",
       "  background-color: #fff7fb;\n",
       "  color: #000000;\n",
       "}\n",
       "#T_a02a8_row1_col0 {\n",
       "  background-color: #c8cde4;\n",
       "  color: #000000;\n",
       "}\n",
       "#T_a02a8_row2_col0 {\n",
       "  background-color: #2484ba;\n",
       "  color: #f1f1f1;\n",
       "}\n",
       "#T_a02a8_row3_col0 {\n",
       "  background-color: #023858;\n",
       "  color: #f1f1f1;\n",
       "}\n",
       "</style>\n",
       "<table id=\"T_a02a8\">\n",
       "  <thead>\n",
       "    <tr>\n",
       "      <th class=\"blank level0\" >&nbsp;</th>\n",
       "      <th id=\"T_a02a8_level0_col0\" class=\"col_heading level0 col0\" >Tasa_Supervivencia</th>\n",
       "      <th id=\"T_a02a8_level0_col1\" class=\"col_heading level0 col1\" >Total_Pasajeros</th>\n",
       "    </tr>\n",
       "    <tr>\n",
       "      <th class=\"index_name level0\" >Rango_Fare</th>\n",
       "      <th class=\"blank col0\" >&nbsp;</th>\n",
       "      <th class=\"blank col1\" >&nbsp;</th>\n",
       "    </tr>\n",
       "  </thead>\n",
       "  <tbody>\n",
       "    <tr>\n",
       "      <th id=\"T_a02a8_level0_row0\" class=\"row_heading level0 row0\" >Muy Bajo</th>\n",
       "      <td id=\"T_a02a8_row0_col0\" class=\"data row0 col0\" >0.197309</td>\n",
       "      <td id=\"T_a02a8_row0_col1\" class=\"data row0 col1\" >223</td>\n",
       "    </tr>\n",
       "    <tr>\n",
       "      <th id=\"T_a02a8_level0_row1\" class=\"row_heading level0 row1\" >Bajo</th>\n",
       "      <td id=\"T_a02a8_row1_col0\" class=\"data row1 col0\" >0.303571</td>\n",
       "      <td id=\"T_a02a8_row1_col1\" class=\"data row1 col1\" >224</td>\n",
       "    </tr>\n",
       "    <tr>\n",
       "      <th id=\"T_a02a8_level0_row2\" class=\"row_heading level0 row2\" >Alto</th>\n",
       "      <td id=\"T_a02a8_row2_col0\" class=\"data row2 col0\" >0.454955</td>\n",
       "      <td id=\"T_a02a8_row2_col1\" class=\"data row2 col1\" >222</td>\n",
       "    </tr>\n",
       "    <tr>\n",
       "      <th id=\"T_a02a8_level0_row3\" class=\"row_heading level0 row3\" >Muy Alto</th>\n",
       "      <td id=\"T_a02a8_row3_col0\" class=\"data row3 col0\" >0.581081</td>\n",
       "      <td id=\"T_a02a8_row3_col1\" class=\"data row3 col1\" >222</td>\n",
       "    </tr>\n",
       "  </tbody>\n",
       "</table>\n"
      ],
      "text/plain": [
       "<pandas.io.formats.style.Styler at 0x126a95bb0>"
      ]
     },
     "execution_count": 217,
     "metadata": {},
     "output_type": "execute_result"
    }
   ],
   "source": [
    "# Crear una nueva columna con los cuartiles del precio del billete\n",
    "datos['Rango_Fare'] = pd.qcut(datos['Fare'], 4, labels=[\"Muy Bajo\", \"Bajo\", \"Alto\", \"Muy Alto\"])\n",
    "\n",
    "# Agrupar por rango y calcular tasa de supervivencia y total de pasajeros\n",
    "supervivencia_por_billete = datos.groupby('Rango_Fare', observed=False).agg(\n",
    "    Tasa_Supervivencia=('Survived', 'mean'),\n",
    "    Total_Pasajeros=('Survived', 'count')\n",
    ")\n",
    "\n",
    "# Visualizar con estilo\n",
    "supervivencia_por_billete.style.background_gradient(cmap='PuBu', subset=['Tasa_Supervivencia'])\n"
   ]
  },
  {
   "cell_type": "markdown",
   "id": "e8696789-87c3-4c22-8891-75fc14327b04",
   "metadata": {},
   "source": [
    "#### Supervivientes con los billetes más caros"
   ]
  },
  {
   "cell_type": "code",
   "execution_count": 220,
   "id": "85674b43-74f1-4db0-84b5-2dc0b14c881b",
   "metadata": {},
   "outputs": [
    {
     "name": "stdout",
     "output_type": "stream",
     "text": [
      "La cantidad de supervivientes con un billete superior a 500usd es de 3 de un total de 3\n",
      "Se llaman: ['Ward, Miss. Anna', 'Cardeza, Mr. Thomas Drake Martinez', 'Lesurer, Mr. Gustave J']\n"
     ]
    }
   ],
   "source": [
    "superviviente_billete_caro= ((datos['Fare']>500)&(datos['Survived']==1)).sum()\n",
    "total_pasajeros_billeter_caro= ((datos['Fare']>500)&(datos['Survived'])).sum()\n",
    "nombre_billete_caro = datos[(datos['Fare'] > 500) & (datos['Survived'] == 1)]['Name'].tolist()\n",
    "\n",
    "print(f'La cantidad de supervivientes con un billete superior a 500usd es de {superviviente_billete_caro} de un total de {total_pasajeros_billeter_caro}')\n",
    "print(f'Se llaman: {nombre_billete_caro}')"
   ]
  },
  {
   "cell_type": "markdown",
   "id": "26f81e64-8269-4855-8b1e-3b59237edf81",
   "metadata": {},
   "source": [
    "### Análisis según la puerto de salida"
   ]
  },
  {
   "cell_type": "code",
   "execution_count": 65,
   "id": "704819d1-1909-40b0-83ec-1a2defaa832c",
   "metadata": {},
   "outputs": [
    {
     "name": "stderr",
     "output_type": "stream",
     "text": [
      "/var/folders/0y/cnjyxcjx7jq1btnpkh4fnd280000gn/T/ipykernel_39515/1711818362.py:9: FutureWarning: \n",
      "\n",
      "Passing `palette` without assigning `hue` is deprecated and will be removed in v0.14.0. Assign the `x` variable to `hue` and set `legend=False` for the same effect.\n",
      "\n",
      "  sns.countplot(x='Embarked', data=datos, palette=colores)\n"
     ]
    },
    {
     "data": {
      "image/png": "[encoded data removed]",
      "text/plain": [
       "<Figure size 600x400 with 1 Axes>"
      ]
     },
     "metadata": {},
     "output_type": "display_data"
    }
   ],
   "source": [
    "# Creación de la visualización\n",
    "\n",
    "# Estilo y colores\n",
    "sns.set_style(\"whitegrid\")\n",
    "colores = ['#d7ad48', '#529f83', '#7eb1e2']\n",
    "\n",
    "# Gráfico con countplot\n",
    "plt.figure(figsize=(6, 4))\n",
    "sns.countplot(x='Embarked', data=datos, palette=colores)\n",
    "\n",
    "# Creación de títulos\n",
    "plt.title('Total de pasajeros según puerto de salida')\n",
    "plt.xlabel('Puerto de salida')\n",
    "plt.ylabel('Total de Pasajeros')\n",
    "plt.xticks(np.arange(3),['Southampton', 'Cherbourg', 'Queenstown'])\n",
    "\n",
    "# Mostrar gráfico\n",
    "plt.show()"
   ]
  },
  {
   "cell_type": "markdown",
   "id": "40272a2d-b8eb-490f-9a79-7984eb70831d",
   "metadata": {},
   "source": [
    "#### Supervivientes y fallecidos según su puerto de salida"
   ]
  },
  {
   "cell_type": "code",
   "execution_count": 67,
   "id": "1e683e94-747d-4b19-b24e-db9165eb2055",
   "metadata": {},
   "outputs": [
    {
     "data": {
      "image/png": "[encoded data removed]",
      "text/plain": [
       "<Figure size 640x480 with 1 Axes>"
      ]
     },
     "metadata": {},
     "output_type": "display_data"
    }
   ],
   "source": [
    "# Gráfico\n",
    "sns.countplot(data=datos, x='Embarked', hue='Survived', palette=['#7eb1e2', '#f47f30'])\n",
    "\n",
    "# Títulos y etiquetas\n",
    "plt.title('Supervivientes y fallecidos según su puerto de salida')\n",
    "plt.xlabel('Puerto de salida')\n",
    "plt.ylabel('Total de Pasajeros')\n",
    "\n",
    "# Renombrar las etiquetas del eje X\n",
    "plt.xticks([0, 1, 2], ['Southampton', 'Cherbourg', 'Queenstown'])\n",
    "\n",
    "# Leyenda personalizada\n",
    "plt.legend(labels=['Supervivientes', 'Fallecidos'])\n",
    "\n",
    "# Mostrar gráfico\n",
    "plt.show()\n"
   ]
  },
  {
   "cell_type": "code",
   "execution_count": null,
   "id": "68d23e26-bb14-4c51-a29c-2572d28ad7ec",
   "metadata": {},
   "outputs": [],
   "source": []
  }
 ],
 "metadata": {
  "kernelspec": {
   "display_name": "Python [conda env:base] *",
   "language": "python",
   "name": "conda-base-py"
  },
  "language_info": {
   "codemirror_mode": {
    "name": "ipython",
    "version": 3
   },
   "file_extension": ".py",
   "mimetype": "text/x-python",
   "name": "python",
   "nbconvert_exporter": "python",
   "pygments_lexer": "ipython3",
   "version": "3.12.7"
  }
 },
 "nbformat": 4,
 "nbformat_minor": 5
}
