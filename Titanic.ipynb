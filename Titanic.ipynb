{
 "cells": [
  {
   "cell_type": "markdown",
   "id": "184dde8f-fae3-4366-ae1a-988616a17bc7",
   "metadata": {},
   "source": [
    "# Análisis de superpivivientes del Titanic"
   ]
  },
  {
   "cell_type": "markdown",
   "id": "5a5cd9cd-2f15-4f11-b283-7795833c41a9",
   "metadata": {
    "jp-MarkdownHeadingCollapsed": true
   },
   "source": [
    "## Cargar librerias necesarias"
   ]
  },
  {
   "cell_type": "code",
   "execution_count": null,
   "id": "6d63fe48-3379-4c0b-8f1c-d6a0a74e898b",
   "metadata": {},
   "outputs": [],
   "source": [
    "import pandas as pd\n",
    "import numpy as np\n",
    "import matplotlib.pyplot as plt\n",
    "import seaborn as sns"
   ]
  },
  {
   "cell_type": "markdown",
   "id": "b2cbf044-7a49-43a1-895c-23e0aaee0c12",
   "metadata": {
    "jp-MarkdownHeadingCollapsed": true
   },
   "source": [
    "## Carga de datos en Python"
   ]
  },
  {
   "cell_type": "code",
   "execution_count": null,
   "id": "eb924ebe-9193-45b8-8866-672a3756d010",
   "metadata": {},
   "outputs": [],
   "source": [
    "datos= pd.read_csv('titanic.csv')"
   ]
  },
  {
   "cell_type": "markdown",
   "id": "a03c1157-a673-4c21-9d48-52cd3d110801",
   "metadata": {
    "jp-MarkdownHeadingCollapsed": true
   },
   "source": [
    "## Revisión del Dataset"
   ]
  },
  {
   "cell_type": "code",
   "execution_count": null,
   "id": "8d0cff3b-9eca-4588-9192-8fdf2a773b55",
   "metadata": {},
   "outputs": [],
   "source": [
    "# Revisión inicial de los datos\n",
    "\n",
    "datos.head(5)"
   ]
  },
  {
   "cell_type": "code",
   "execution_count": null,
   "id": "5272083b-491e-4868-ac2a-1a48513140b7",
   "metadata": {},
   "outputs": [],
   "source": [
    "# Dimensiones del DF\n",
    "\n",
    "datos.shape"
   ]
  },
  {
   "cell_type": "code",
   "execution_count": null,
   "id": "b5330ee5-6460-4faa-aee1-60515713d553",
   "metadata": {},
   "outputs": [],
   "source": [
    "# Información general sobre los datos\n",
    "\n",
    "datos.info()"
   ]
  },
  {
   "cell_type": "code",
   "execution_count": null,
   "id": "272a389f-0c88-4277-b31e-77c182933610",
   "metadata": {},
   "outputs": [],
   "source": [
    "# Estadísticas descriptivas\n",
    "\n",
    "datos.describe().round(0)"
   ]
  },
  {
   "cell_type": "code",
   "execution_count": null,
   "id": "73769ef9-fe9f-440d-8bb7-210c75dac07e",
   "metadata": {},
   "outputs": [],
   "source": [
    "# Revisión de valores nulos\n",
    "\n",
    "nulo= datos.isnull().sum().sort_values(ascending = False)\n",
    "\n",
    "nulo"
   ]
  },
  {
   "cell_type": "code",
   "execution_count": null,
   "id": "39d68ddd-bb56-40f5-95ad-dec237004d02",
   "metadata": {},
   "outputs": [],
   "source": [
    "# Sumatorio de valores no nulos\n",
    "\n",
    "nonulo= datos.notnull().sum().sort_values(ascending = False)\n",
    "\n",
    "nonulo"
   ]
  },
  {
   "cell_type": "code",
   "execution_count": null,
   "id": "ca94e377-a0aa-4ef8-8378-b14bddcd6cbe",
   "metadata": {},
   "outputs": [],
   "source": [
    "# Conocer el porcentaje de valores nulos por cada columna\n",
    "\n",
    "porcentaje_nulo= (datos.isnull().sum() / datos.isnull().count()).sort_values(ascending = False).round(3)\n",
    "\n",
    "porcentaje_nulo"
   ]
  },
  {
   "cell_type": "code",
   "execution_count": null,
   "id": "ae309efe-92b5-464a-a8bd-575d193ce6f4",
   "metadata": {},
   "outputs": [],
   "source": [
    "# Visión completa de los valores nulos en el dataset\n",
    "\n",
    "nulo_completo= pd.concat([nulo, porcentaje_nulo], axis=1, keys= ['Datos nulos', ' Porcentaje de nulos'])\n",
    "nulo_completo"
   ]
  },
  {
   "cell_type": "markdown",
   "id": "98a74886-132f-40e8-9570-afc586e62f80",
   "metadata": {
    "jp-MarkdownHeadingCollapsed": true
   },
   "source": [
    "## Análisis del Dataset"
   ]
  },
  {
   "cell_type": "markdown",
   "id": "5df77485-164b-4f09-aa2b-ce1ea4ad9d65",
   "metadata": {},
   "source": [
    "El **dataset** contiene un total de **418 registros (filas)** y **12 columnas**. \n",
    "\n",
    "#### Tipos de Datos:\n",
    "- **2 columnas** con tipo de datos `float64`:\n",
    "  - `Age`\n",
    "  - `Fare`\n",
    "  \n",
    "- **5 columnas** con tipo de datos `int64` (numéricas):\n",
    "  - `PassengerId`\n",
    "  - `Survived`\n",
    "  - `Pclass`\n",
    "  - `SibSp`\n",
    "  - `Parch`\n",
    "  \n",
    "- **5 columnas** con tipo de datos `object` (categóricas):\n",
    "  - `Name`\n",
    "  - `Sex`\n",
    "  - `Ticket`\n",
    "  - `Cabin`\n",
    "  - `Embarked`\n",
    "\n",
    "#### Descripción de las Columnas:\n",
    "\n",
    "| **Columna**    | **Descripción**                                                                                      |\n",
    "|----------------|------------------------------------------------------------------------------------------------------|\n",
    "| **PassengerId**| Identificador único para cada pasajero.                                                             |\n",
    "| **Survived**   | `0` significa que el pasajero **no sobrevivió** y `1` significa que **sobrevivió**.                  |\n",
    "| **Pclass**     | Clase del pasajero: 1, 2 o 3.                                                                        |\n",
    "| **Name**       | Nombre del pasajero.                                                                                 |\n",
    "| **Sex**        | Género del pasajero: `male` o `female`.                                                               |\n",
    "| **Age**        | Edad del pasajero, variable numérica.                                                                |\n",
    "| **SibSp**      | Número de hermanos o esposas a bordo. Variable numérica.                                              |\n",
    "| **Parch**      | Número de padres o hijos a bordo. Variable numérica.                                                 |\n",
    "| **Ticket**     | Número de billete.                                                                                  |\n",
    "| **Fare**       | Tarifa del billete. Variable numérica.                                                              |\n",
    "| **Cabin**      | Número de camarote.                                                                                 |\n",
    "| **Embarked**   | Puerto de embarque del pasajero: `C` = Cherbourg; `Q` = Queenstown; `S` = Southampton.                                           |\n",
    "\n",
    "#### Resumen de valores nulos:\n",
    "- **Age**: 177 valores nulos.\n",
    "- **Embarked**: 2 valores nulo.\n",
    "- **Cabin**: 687 valores nulos."
   ]
  },
  {
   "cell_type": "markdown",
   "id": "9a18ee8f-c1eb-48d6-a96c-dd5beddc722d",
   "metadata": {
    "jp-MarkdownHeadingCollapsed": true
   },
   "source": [
    "## Consideraciones después del Análisis de dataset"
   ]
  },
  {
   "cell_type": "markdown",
   "id": "075c1bdf-d05b-4b66-9e23-5071ced77c8c",
   "metadata": {},
   "source": [
    "- **Age:** imputar con la mediana de `Age`.\n",
    "- **Embarked:** imputar con la moda de `Embarked`.\n",
    "- **Cabin:** eliminar la esta columna ya que el 70% son valores nulos."
   ]
  },
  {
   "cell_type": "code",
   "execution_count": null,
   "id": "7bf713fd-f040-4fee-b4ca-ec956dbc1577",
   "metadata": {},
   "outputs": [],
   "source": [
    "# Imputar 'Age' y 'Fare' con la mediana\n",
    "\n",
    "datos['Age'] = datos['Age'].fillna(datos['Age'].median())\n",
    "datos['Embarked'] = datos['Embarked'].fillna(datos['Embarked'].mode()[0])"
   ]
  },
  {
   "cell_type": "code",
   "execution_count": null,
   "id": "0878a022-c819-463a-9336-9527850001d2",
   "metadata": {},
   "outputs": [],
   "source": [
    "# Comprobación si han sido modificados los nulos\n",
    "\n",
    "datos.isnull().sum()"
   ]
  },
  {
   "cell_type": "code",
   "execution_count": null,
   "id": "b70c9d04-b2b4-470c-b3e8-d8243fcdca21",
   "metadata": {},
   "outputs": [],
   "source": [
    "# Quitar la columna `Cabin'\n",
    "\n",
    "datos.drop('Cabin', axis=1, inplace= True)"
   ]
  },
  {
   "cell_type": "code",
   "execution_count": null,
   "id": "07994fa6-7ce8-425c-bd03-d141df82b635",
   "metadata": {},
   "outputs": [],
   "source": [
    "# Comprobación de que la columna ha sido eliminada\n",
    "\n",
    "datos.columns"
   ]
  },
  {
   "cell_type": "code",
   "execution_count": null,
   "id": "cef6454a-f122-447e-a2cb-4c1b4779d8d9",
   "metadata": {},
   "outputs": [],
   "source": []
  },
  {
   "cell_type": "markdown",
   "id": "e5b0ea34-4360-4d03-b872-32a13009f34a",
   "metadata": {},
   "source": [
    "## Análisis y creación de visualizaciones de los datos"
   ]
  },
  {
   "cell_type": "markdown",
   "id": "dc17134f-c87e-4473-b3dd-baab13d4ab50",
   "metadata": {
    "jp-MarkdownHeadingCollapsed": true
   },
   "source": [
    "### Pasajeros según Clase"
   ]
  },
  {
   "cell_type": "code",
   "execution_count": null,
   "id": "2eb37e8f-5fd1-41ba-bde8-81eb14e0ef1a",
   "metadata": {},
   "outputs": [],
   "source": [
    "# Obtención de los pasajeros totales según Clase\n",
    "\n",
    "primera_clase = (datos['Pclass'] == 1).sum()\n",
    "segunda_clase = (datos['Pclass'] == 2).sum()\n",
    "tercera_clase = (datos['Pclass'] == 3).sum()\n",
    "\n",
    "print('Total de pasajeros en Primera Clase:', primera_clase)\n",
    "print('Total de pasajeros en Segunda Clase:', segunda_clase)\n",
    "print('Total de pasajeros en Tercera Clase:', tercera_clase)"
   ]
  },
  {
   "cell_type": "code",
   "execution_count": null,
   "id": "bb5f3b93-8f06-4e47-b96e-04f22af2ed12",
   "metadata": {},
   "outputs": [],
   "source": [
    "# Creación del Gráfico de Tarta\n",
    "\n",
    "\n",
    "plt.figure(figsize=(5,6))\n",
    "colores= ['#7eb1e2', '#529f83', '#f47f30']\n",
    "\n",
    "labels=['Primera clase', 'Segunda clase', 'Tercera clase']\n",
    "sizes= [primera_clase, segunda_clase, tercera_clase]\n",
    "\n",
    "plt.pie(sizes, labels=labels, autopct='%1.1f%%', colors=colores)\n",
    "plt.title('Distribución de pasajeros según Clase', fontsize=14)\n",
    "\n",
    "# Visualización del gráfico\n",
    "\n",
    "plt.show()\n"
   ]
  },
  {
   "cell_type": "markdown",
   "id": "8ee81f3c-1083-46cb-96de-6085ed91ee05",
   "metadata": {
    "jp-MarkdownHeadingCollapsed": true
   },
   "source": [
    "### Supervivientes según Clase"
   ]
  },
  {
   "cell_type": "code",
   "execution_count": null,
   "id": "1e25da36-581f-4f47-919a-339738b9d275",
   "metadata": {},
   "outputs": [],
   "source": [
    "# Creación del Gráfico con Seaborn de Countplot\n",
    "\n",
    "plt.figure(figsize=(5,6))\n",
    "sns.set_style(\"whitegrid\")\n",
    "colores = ['#f47f30', '#7eb1e2'] \n",
    "\n",
    "# Creación del gráfico de barras\n",
    "sns.countplot(x ='Pclass', hue ='Survived', data=datos, palette= colores)\n",
    "\n",
    "# Creación de títulos\n",
    "plt.title('Supervivientes según Clase')\n",
    "plt.xlabel('Clase')\n",
    "plt.ylabel('Total')\n",
    "plt.legend(['Fallecidos', 'Supervivientes'])\n",
    "\n",
    "# Visualización del gráfico\n",
    "plt.show()\n"
   ]
  },
  {
   "cell_type": "markdown",
   "id": "6c54bbb9-2293-4ec4-9202-57a1cd76e176",
   "metadata": {},
   "source": [
    "Como se puede observar, la clase con mayor número de fallecidos fue la Tercera Clase, con una cifra que casi triplica a la de la Primera y Segunda Clase. En contraste, la Primera Clase fue la que registró el mayor número de supervivientes."
   ]
  },
  {
   "cell_type": "markdown",
   "id": "6d196124-6462-4176-9b6b-cee3821f8f77",
   "metadata": {
    "jp-MarkdownHeadingCollapsed": true
   },
   "source": [
    "### Superviviencia según Género y Clase"
   ]
  },
  {
   "cell_type": "code",
   "execution_count": null,
   "id": "0fe905e1-80c7-480f-8d76-100bd3e4e162",
   "metadata": {},
   "outputs": [],
   "source": [
    "# Creación de un dataframe para visualizar mejor los datos antes de graficarlos.\n",
    "# 0 significa que el pasajero no sobrevivió y 1 significa que sobrevivió.\n",
    "\n",
    "pd.crosstab(index=[datos['Sex'], datos['Survived']],\n",
    "            columns=datos['Pclass'], \n",
    "            margins=True).style.background_gradient(cmap='PuBu')\n"
   ]
  },
  {
   "cell_type": "markdown",
   "id": "d941e2a4-ce24-46bb-b0d2-ac1129b55aef",
   "metadata": {},
   "source": [
    "### Gráficos de Supervivencia por Clase y Sexo de los Pasajeros"
   ]
  },
  {
   "cell_type": "code",
   "execution_count": null,
   "id": "fb0d2f58-562f-4589-86af-bf6f7b73f82f",
   "metadata": {},
   "outputs": [],
   "source": [
    "# Creación de los gráficos\n",
    "\n",
    "# Estilo y colores\n",
    "sns.set_style(\"whitegrid\")\n",
    "colores = ['#c1145c', '#7eb1e2']\n",
    "\n",
    "# Gráfico con catplot\n",
    "graficobarras = sns.catplot(x='Pclass', hue='Sex', col='Survived', data=datos, kind='count', palette=colores, height=4, aspect=1)\n",
    "\n",
    "# Ejes y títulos\n",
    "graficobarras.set_axis_labels(\"Clase\", \"Total\")\n",
    "graficobarras.set_titles(col_template=\"{col_name}\")\n",
    "\n",
    "# Títulos personalizados para cada columna\n",
    "for ax, title in zip(graficobarras.axes.flat, [\"Fallecidos según Clase y Género\", \"Supervivientes según Clase y Género\"]):\n",
    "    ax.set_title(title)\n",
    "\n",
    "# Mostrar gráfico\n",
    "plt.show()\n"
   ]
  },
  {
   "cell_type": "markdown",
   "id": "2f806d7c-584c-4b14-bfcb-fc03122b59bd",
   "metadata": {},
   "source": [
    "En ambos gráficos se aprecia claramente que las mujeres presentan una tasa de supervivencia considerablemente mayor en todas las clases sociales. Esta diferencia es especialmente marcada si se compara con los hombres, lo que sugiere que el género fue un factor determinante en las probabilidades de sobrevivir al naufragio, independientemente de la clase del pasajero."
   ]
  },
  {
   "cell_type": "markdown",
   "id": "2ef0ffe9-c54a-4927-a026-5e3a5c443782",
   "metadata": {
    "jp-MarkdownHeadingCollapsed": true
   },
   "source": [
    "#### ¿Qué proporciones de supervivientes hubo con respecto al total de pasajeros?"
   ]
  },
  {
   "cell_type": "code",
   "execution_count": null,
   "id": "50ba34af-15e2-4ef0-a084-3475ce380b49",
   "metadata": {},
   "outputs": [],
   "source": [
    "# Total de pasajeros\n",
    "total_pasajeros = len(datos)\n",
    "\n",
    "# Total de pasajeros que sobrevivieron\n",
    "total_supervivientes = datos['Survived'].sum()\n",
    "\n",
    "# Porcentaje\n",
    "porcentaje_supervivientes = (total_supervivientes / total_pasajeros) * 100\n",
    "\n",
    "# Mostrar resultado redondeado\n",
    "print(f\"Porcentaje de pasajeros que sobrevivieron: {porcentaje_supervivientes:.2f}%\")\n"
   ]
  },
  {
   "cell_type": "markdown",
   "id": "a6efc766-a76b-4f1b-8a99-212db1b6e932",
   "metadata": {
    "jp-MarkdownHeadingCollapsed": true
   },
   "source": [
    "#### ¿Qué porcentaje de los supervivientes fueron hombres y mujeres respecto al total de pasajeros?"
   ]
  },
  {
   "cell_type": "code",
   "execution_count": null,
   "id": "4a0d4459-520d-4996-86b3-43d9ee78a13a",
   "metadata": {},
   "outputs": [],
   "source": [
    "# Calculamos el porcentaje de supervivientes por género\n",
    "supervivencia_genero = datos.groupby('Sex')['Survived'].mean() * 100\n",
    "\n",
    "# Extraemos los valores\n",
    "mujeres = supervivencia_genero['female']\n",
    "hombres = supervivencia_genero['male']\n",
    "\n",
    "# Creación del texto \n",
    "print(f\"El {mujeres:.2f}% de las mujeres sobrevivieron al naufragio, mientras que solo el {hombres:.2f}% de los hombres lo hizo.\")\n",
    "\n",
    "\n"
   ]
  },
  {
   "cell_type": "markdown",
   "id": "1f28c533-279d-46c3-b6b8-ffaba13d0ead",
   "metadata": {
    "jp-MarkdownHeadingCollapsed": true
   },
   "source": [
    "### Análisis según Género"
   ]
  },
  {
   "cell_type": "code",
   "execution_count": null,
   "id": "a29a40f3-0d90-48f6-b31b-651533fbe2c8",
   "metadata": {},
   "outputs": [],
   "source": [
    "# Conteo de hombres y mujeres\n",
    "\n",
    "datos['Sex'].value_counts().to_frame(name='Total').style.background_gradient(cmap='PuBu')\n"
   ]
  },
  {
   "cell_type": "markdown",
   "id": "199dfc00-334d-46bf-9144-5e217ca1deee",
   "metadata": {},
   "source": [
    "#### Gráfico de barras según género de los pasajeros"
   ]
  },
  {
   "cell_type": "code",
   "execution_count": null,
   "id": "5d239aa4-1a39-4807-ac87-079de3d59440",
   "metadata": {},
   "outputs": [],
   "source": [
    "# Creación de la visualización\n",
    "\n",
    "# Estilo y colores\n",
    "sns.set_style(\"whitegrid\")\n",
    "colores = ['#7eb1e2','#c1145c']\n",
    "\n",
    "# Gráfico con countplot\n",
    "plt.figure(figsize=(6, 4))\n",
    "sns.countplot(x='Sex', data=datos, palette=colores)\n",
    "\n",
    "# Creación de títulos\n",
    "plt.title('Distribución de Género en los Pasajeros')\n",
    "plt.xlabel('Género')\n",
    "plt.ylabel('Total de Pasajeros')\n",
    "\n",
    "# Mostrar gráfico\n",
    "plt.xticks(ticks=[0, 1], labels=['Masculino', 'Femenino'])\n",
    "plt.show()"
   ]
  },
  {
   "cell_type": "markdown",
   "id": "17a1c9ed-118c-484e-8259-cbe88b046a64",
   "metadata": {},
   "source": [
    "#### Gráfico de barras apiladas que muestra por género si sobrevivio o no\n",
    "\n",
    "\n"
   ]
  },
  {
   "cell_type": "code",
   "execution_count": null,
   "id": "580bac2d-cb6a-4db3-a463-fccb8e3ff68f",
   "metadata": {},
   "outputs": [],
   "source": [
    "#Creación del gráfico\n",
    "\n",
    "# Agrupamos los datos por género y supervivencia\n",
    "genero_supervivencia = datos.groupby(['Sex', 'Survived']).size().unstack()\n",
    "\n",
    "# Colores:\n",
    "colores = ['#f47f30', '#7eb1e2']  \n",
    "\n",
    "# Crear gráfico de barras apiladas\n",
    "genero_supervivencia.plot(kind='bar', stacked=True, color=colores, figsize=(6, 4))\n",
    "\n",
    "# Títulos y etiquetas\n",
    "plt.title('Supervivientes y fallecidos por Género')\n",
    "plt.xlabel('Género')\n",
    "plt.ylabel('Total de Pasajeros')\n",
    "plt.legend(['Fallecidos', 'Supervivientes'])\n",
    "plt.xticks(rotation=0, ticks=[0, 1], labels=['Femenino','Masculino'])\n",
    "\n",
    "# Mostrar gráfico\n",
    "plt.tight_layout()\n",
    "plt.show()\n"
   ]
  },
  {
   "cell_type": "markdown",
   "id": "60e704f4-4271-494a-bea1-9a3c8402e8da",
   "metadata": {
    "jp-MarkdownHeadingCollapsed": true
   },
   "source": [
    "### Análisis según la Edad de los pasajeros"
   ]
  },
  {
   "cell_type": "code",
   "execution_count": null,
   "id": "4327a781-2765-4355-a105-6f1751a1003f",
   "metadata": {},
   "outputs": [],
   "source": [
    "# Creación de la visualización\n",
    "\n",
    "datos.hist(column='Age', bins = 60, color = \"#d7ad48\", alpha = 0.7)\n",
    "\n",
    "# Agregamos los titulos del gráfico\n",
    "plt.title('Distribución según Edad')\n",
    "plt.xlabel ('Edad')\n",
    "plt.ylabel('Total')\n",
    "\n",
    "# Visualización del gráfico\n",
    "plt.show()"
   ]
  },
  {
   "cell_type": "code",
   "execution_count": null,
   "id": "0e0c6996-2f71-494f-adac-a4f259feade7",
   "metadata": {},
   "outputs": [],
   "source": [
    "# Edad mínima\n",
    "\n",
    "min= datos.Age.min()\n",
    "\n",
    "# Edad máxima\n",
    "\n",
    "max= datos.Age.max()\n",
    "\n",
    "# Edad média\n",
    "\n",
    "media= datos.Age.mean().round(2)\n",
    "\n",
    "print(f'La edad mínima de los pasajeros es {min}, la edad máxima es {max}  y la edad media es {media}.')"
   ]
  },
  {
   "cell_type": "code",
   "execution_count": null,
   "id": "19fff2e5-bcf4-4254-a4e1-127340f29988",
   "metadata": {},
   "outputs": [],
   "source": [
    "# Crear columnas para clasificar como 'Mayor de edad' o 'Menor de edad'\n",
    "\n",
    "datos['Edad categoria'] = datos['Age'].apply(lambda x: 'Mayor de edad' if x >= 18 else 'Menor de edad' if pd.notnull(x) else 'Desconocido')\n",
    "\n",
    "# Crear tabla cruzada\n",
    "tabla_edad = pd.crosstab(index= datos['Edad categoria'], columns='Total', margins=False)\n",
    "\n",
    "# Aplicar estilo\n",
    "tabla_edad.style.background_gradient(cmap='PuBu')\n"
   ]
  },
  {
   "cell_type": "markdown",
   "id": "08357e5b-9136-4ee1-bd96-2caba9fb54fb",
   "metadata": {},
   "source": [
    "#### ¿Qué porcentaje de menores de edad sobrevivieron según su género?"
   ]
  },
  {
   "cell_type": "code",
   "execution_count": null,
   "id": "327315ed-ca27-45c4-b0fe-c19737aa00cf",
   "metadata": {},
   "outputs": [],
   "source": [
    "# Filtramos solo los menores de edad\n",
    "menores = datos[datos['Age'] < 18]\n",
    "\n",
    "# Calculamos la tasa de supervivencia por género dentro de los menores\n",
    "supervivencia_menores = menores.groupby('Sex')['Survived'].mean() * 100\n",
    "\n",
    "# Extraemos los valores\n",
    "porcentaje_menores_mujeres = supervivencia_menores.get('female', 0)\n",
    "porcentaje_menores_hombres = supervivencia_menores.get('male', 0)\n",
    "\n",
    "# Mostramos el resultado en texto\n",
    "print(f\"Entre los menores de edad, sobrevivieron el {porcentaje_menores_mujeres:.2f}% de las niñas y el {porcentaje_menores_hombres:.2f}% de los niños.\")\n",
    "\n"
   ]
  },
  {
   "cell_type": "markdown",
   "id": "1711f127-48b1-4ce0-babd-171f5d51d40c",
   "metadata": {
    "jp-MarkdownHeadingCollapsed": true
   },
   "source": [
    "### Gráfico de distribución de fallecidos y supervivientes según edad"
   ]
  },
  {
   "cell_type": "code",
   "execution_count": null,
   "id": "fea8de40-4625-423e-b73e-c16517f39575",
   "metadata": {},
   "outputs": [],
   "source": [
    "# Creación del gráfico\n",
    "\n",
    "plt.figure(figsize=(8,5))\n",
    "\n",
    "axs = sns.kdeplot(datos.Age[datos.Survived == 0], fill = True, color = '#f47f30', label = 'Fallecido')\n",
    "axs = sns.kdeplot(datos.Age[datos.Survived == 1], color = '#7eb1e2', label = 'Supervivientes')\n",
    "\n",
    "# Titulos del gráfico\n",
    "plt.title('Distribución de supervivientes y fallecidos según edad')\n",
    "plt.xlabel('Edad')\n",
    "plt.ylabel('Distribución')\n",
    "plt.legend({'Fallecidos', 'Supervivientes'})\n",
    "\n",
    "# Mostramos el gráfico\n",
    "plt.show()\n"
   ]
  },
  {
   "cell_type": "markdown",
   "id": "96aa5394-b817-4dac-86c7-22c32864ebac",
   "metadata": {},
   "source": [
    "#### Clasificación de los pasajeros según su rango de edad\n",
    "\n",
    "##### Teniendo en cuenta las siguientes consideraciones:\n",
    "###### - La esperanza de vida era más baja (~50 años).\n",
    "###### - Se viajaba mucho en familia, con presencia notable de niños.\n",
    "###### - Había una clara distinción entre niños, jóvenes adultos, adultos y ancianos.\n",
    "\n",
    "##### He creado la siguiente clasificación según rango de edad de los pasajeros:\n",
    "###### Niño (0-12)\n",
    "###### Adolescente (13-19)\n",
    "###### Joven Adulto (20-35)\n",
    "###### Adulto (36-50)\n",
    "###### Mayor (51+)\n",
    "\n",
    "###### "
   ]
  },
  {
   "cell_type": "code",
   "execution_count": null,
   "id": "66a2fdd7-5a09-4d62-a6a7-89daa0601d6f",
   "metadata": {},
   "outputs": [],
   "source": [
    "# Creación de los rangos de edad\n",
    "\n",
    "datos ['rango_edad'] = 0\n",
    "datos.loc[ datos['Age'] <= 12, 'rango_edad' ] = 0\n",
    "datos.loc[ (datos['Age'] > 13) & (datos['Age'] <= 19), 'rango_edad' ] = 1\n",
    "datos.loc[ (datos['Age'] > 20) & (datos['Age'] <= 35), 'rango_edad' ] = 2\n",
    "datos.loc[ (datos['Age'] > 36) & (datos['Age'] <= 50), 'rango_edad' ] = 3\n",
    "datos.loc[ datos['Age'] > 51 ,'rango_edad' ] = 4\n",
    "\n",
    "datos.head()"
   ]
  },
  {
   "cell_type": "code",
   "execution_count": null,
   "id": "10d94d99-3047-42b7-9067-cf7250c8457b",
   "metadata": {},
   "outputs": [],
   "source": [
    "# Crear columnas para clasificar según rango de edad\n",
    "\n",
    "datos['rango_edad'].value_counts().to_frame().style.background_gradient(cmap='PuBu')\n"
   ]
  },
  {
   "cell_type": "code",
   "execution_count": null,
   "id": "85020da3-4057-4166-87c7-9e3e1d4b69cb",
   "metadata": {},
   "outputs": [],
   "source": [
    "# Definir paleta personalizada para Pclass\n",
    "\n",
    "colores_clase = {\n",
    "    1: '#529f83',\n",
    "    2: '#7eb1e2',\n",
    "    3: '#f47f30' }\n",
    "\n",
    "sns.catplot(x ='rango_edad', y ='Survived', data = datos, hue= 'Pclass', kind='point', palette=colores_clase, height=5, aspect=1.5)\n",
    "\n",
    "# Agregamos los títulos\n",
    "plt.title('Supervivencia según Rango Edad')\n",
    "plt.xlabel('Rangos de Edad')\n",
    "plt.ylabel('Porcentaje de Supervivencia')\n",
    "\n",
    "# Visualizar el gráfico\n",
    "\n",
    "plt.show()"
   ]
  },
  {
   "cell_type": "code",
   "execution_count": null,
   "id": "4d7bc3b1-674a-4c62-a2cb-fb262bfac317",
   "metadata": {},
   "outputs": [],
   "source": [
    "# Calcular porcentaje de supervivencia por rango_edad\n",
    "porcentaje_supervivencia = datos.groupby('rango_edad')['Survived'].mean()\n",
    "\n",
    "# Convertimos a porcentaje y lo pasamos a un DataFrame\n",
    "porcentaje_supervivencia = (porcentaje_supervivencia * 100).round(2).to_frame()\n",
    "\n",
    "# Renombramos la columna para mayor claridad\n",
    "porcentaje_supervivencia.columns = ['% Supervivencia']\n",
    "\n",
    "# Visualizar\n",
    "porcentaje_supervivencia.style.background_gradient(cmap='PuBu')"
   ]
  },
  {
   "cell_type": "markdown",
   "id": "f15ae39e-e354-4255-9d3f-2ec8b18b1dd2",
   "metadata": {
    "jp-MarkdownHeadingCollapsed": true
   },
   "source": [
    "### Análisis según el coste del billete"
   ]
  },
  {
   "cell_type": "code",
   "execution_count": null,
   "id": "4fc54c1c-6823-4dee-8347-b73eaa2f230d",
   "metadata": {},
   "outputs": [],
   "source": [
    "# Valor máximo y mínimo del billete\n",
    "\n",
    "print('El billete más caro:', datos['Fare'].max())\n",
    "print('El billete más económico:', datos['Fare'].min())"
   ]
  },
  {
   "cell_type": "markdown",
   "id": "9cc31257-9ca4-4ab7-a40e-02eaee09e08f",
   "metadata": {},
   "source": [
    "#### Clasificación de los billetes según el precio y tasa de supervivencia"
   ]
  },
  {
   "cell_type": "code",
   "execution_count": null,
   "id": "b313101d-c5f3-43bb-a863-1f0911eb5e29",
   "metadata": {},
   "outputs": [],
   "source": [
    "# Crear una nueva columna con los cuartiles del precio del billete\n",
    "datos['Rango_Fare'] = pd.qcut(datos['Fare'], 4, labels=[\"Muy Bajo\", \"Bajo\", \"Alto\", \"Muy Alto\"])\n",
    "\n",
    "# Agrupar por rango y calcular tasa de supervivencia y total de pasajeros\n",
    "supervivencia_por_billete = datos.groupby('Rango_Fare', observed=False).agg(\n",
    "    Tasa_Supervivencia=('Survived', 'mean'),\n",
    "    Total_Pasajeros=('Survived', 'count')\n",
    ")\n",
    "\n",
    "# Visualizar con estilo\n",
    "supervivencia_por_billete.style.background_gradient(cmap='PuBu', subset=['Tasa_Supervivencia'])\n"
   ]
  },
  {
   "cell_type": "markdown",
   "id": "e8696789-87c3-4c22-8891-75fc14327b04",
   "metadata": {},
   "source": [
    "#### Supervivientes con los billetes más caros"
   ]
  },
  {
   "cell_type": "code",
   "execution_count": null,
   "id": "85674b43-74f1-4db0-84b5-2dc0b14c881b",
   "metadata": {},
   "outputs": [],
   "source": [
    "superviviente_billete_caro= ((datos['Fare']>500)&(datos['Survived']==1)).sum()\n",
    "total_pasajeros_billeter_caro= ((datos['Fare']>500)&(datos['Survived'])).sum()\n",
    "nombre_billete_caro = datos[(datos['Fare'] > 500) & (datos['Survived'] == 1)]['Name'].tolist()\n",
    "\n",
    "print(f'La cantidad de supervivientes con un billete superior a 500usd es de {superviviente_billete_caro} de un total de {total_pasajeros_billeter_caro}')\n",
    "print(f'Se llaman: {nombre_billete_caro}')"
   ]
  },
  {
   "cell_type": "markdown",
   "id": "26f81e64-8269-4855-8b1e-3b59237edf81",
   "metadata": {
    "jp-MarkdownHeadingCollapsed": true
   },
   "source": [
    "### Análisis según la puerto de salida"
   ]
  },
  {
   "cell_type": "code",
   "execution_count": null,
   "id": "704819d1-1909-40b0-83ec-1a2defaa832c",
   "metadata": {},
   "outputs": [],
   "source": [
    "# Creación de la visualización\n",
    "\n",
    "# Estilo y colores\n",
    "sns.set_style(\"whitegrid\")\n",
    "colores = ['#d7ad48', '#529f83', '#7eb1e2']\n",
    "\n",
    "# Gráfico con countplot\n",
    "plt.figure(figsize=(6, 4))\n",
    "sns.countplot(x='Embarked', data=datos, palette=colores)\n",
    "\n",
    "# Creación de títulos\n",
    "plt.title('Total de pasajeros según puerto de salida')\n",
    "plt.xlabel('Puerto de salida')\n",
    "plt.ylabel('Total de Pasajeros')\n",
    "plt.xticks(np.arange(3),['Southampton', 'Cherbourg', 'Queenstown'])\n",
    "\n",
    "# Mostrar gráfico\n",
    "plt.show()"
   ]
  },
  {
   "cell_type": "markdown",
   "id": "40272a2d-b8eb-490f-9a79-7984eb70831d",
   "metadata": {},
   "source": [
    "#### Supervivientes y fallecidos según su puerto de salida"
   ]
  },
  {
   "cell_type": "code",
   "execution_count": null,
   "id": "1e683e94-747d-4b19-b24e-db9165eb2055",
   "metadata": {},
   "outputs": [],
   "source": [
    "# Gráfico\n",
    "sns.countplot(data=datos, x='Embarked', hue='Survived', palette=['#7eb1e2', '#f47f30'])\n",
    "\n",
    "# Títulos y etiquetas\n",
    "plt.title('Supervivientes y fallecidos según su puerto de salida')\n",
    "plt.xlabel('Puerto de salida')\n",
    "plt.ylabel('Total de Pasajeros')\n",
    "\n",
    "# Renombrar las etiquetas del eje X\n",
    "plt.xticks([0, 1, 2], ['Southampton', 'Cherbourg', 'Queenstown'])\n",
    "\n",
    "# Leyenda personalizada\n",
    "plt.legend(labels=['Supervivientes', 'Fallecidos'])\n",
    "\n",
    "# Mostrar gráfico\n",
    "plt.show()\n"
   ]
  },
  {
   "cell_type": "code",
   "execution_count": null,
   "id": "68d23e26-bb14-4c51-a29c-2572d28ad7ec",
   "metadata": {},
   "outputs": [],
   "source": []
  }
 ],
 "metadata": {
  "kernelspec": {
   "display_name": "Python [conda env:base] *",
   "language": "python",
   "name": "conda-base-py"
  },
  "language_info": {
   "codemirror_mode": {
    "name": "ipython",
    "version": 3
   },
   "file_extension": ".py",
   "mimetype": "text/x-python",
   "name": "python",
   "nbconvert_exporter": "python",
   "pygments_lexer": "ipython3",
   "version": "3.12.7"
  }
 },
 "nbformat": 4,
 "nbformat_minor": 5
}
